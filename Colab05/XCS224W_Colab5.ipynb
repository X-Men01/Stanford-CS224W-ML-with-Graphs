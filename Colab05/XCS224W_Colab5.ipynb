{
  "cells": [
    {
      "cell_type": "markdown",
      "metadata": {
        "id": "XuXWJLEm2UWS"
      },
      "source": [
        "# **CS224W - Colab 5**\n",
        "\n",
        "[![Open In Colab](https://colab.research.google.com/assets/colab-badge.svg)](https://colab.research.google.com/github/scpd-proed/XCS224W-Colab5/blob/main/Notebook/XCS224W_Colab5.ipynb)\n",
        "\n",
        "Before opening the colab with the badge, you would need to allow Google Colab to access the GitHub private repositories. Please check therefore [this tutorial](https://colab.research.google.com/github/googlecolab/colabtools/blob/master/notebooks/colab-github-demo.ipynb#:~:text=Navigate%20to%20http%3A%2F%2Fcolab,to%20read%20the%20private%20files.).\n",
        "\n",
        "If colab is opened with this badge, make sure please **save copy to drive** in 'File' menu before running the notebook."
      ]
    },
    {
      "cell_type": "markdown",
      "metadata": {
        "id": "8gzsP50bF6Gb"
      },
      "source": [
        "In this final Colab we will continue experimenting with advanced topics in GNNs. Specifically, we will look at different techniques for scaling up GNNs using PyTorch Geometric, DeepSNAP and NetworkX. In the previous Colab we worked with PyTorch Geometric's `NeighborSampler` to scale up training and testing on the OGB `arxiv` dataset and now we will be using DeepSNAP and NetworkX, to implement our own simplified version of `NeighborSampler` and run experiments with different sampling ratios on the Cora graph.\n",
        "\n",
        "Lastly, we will partition the Cora graph into clusters by using different partition algorithms and then train the models using a vanilla Cluster-GCN.\n",
        "\n",
        "**Note**: Make sure to **sequentially run all the cells in each section**, so that the intermediate variables / packages will carry over to the next cell"
      ]
    },
    {
      "cell_type": "markdown",
      "metadata": {
        "id": "MSaetj53YnT6"
      },
      "source": [
        "# Device\n",
        "You likely will want to us a GPU for this Colab.\n",
        "\n",
        "Please click `Runtime` and then `Change runtime type`. Then set the `hardware accelerator` to **GPU**."
      ]
    },
    {
      "cell_type": "markdown",
      "metadata": {
        "id": "OCK7krJdp4o8"
      },
      "source": [
        "# Setup\n",
        "As discussed in the first Colabs, the installation of PyG on Colab can be a little bit tricky. First let us check which version of PyTorch you are running"
      ]
    },
    {
      "cell_type": "code",
      "execution_count": 20,
      "metadata": {
        "colab": {
          "base_uri": "https://localhost:8080/"
        },
        "id": "2vkP8pA1qBE5",
        "outputId": "2dc5f100-684c-4efd-f153-a5a54649f583"
      },
      "outputs": [
        {
          "name": "stdout",
          "output_type": "stream",
          "text": [
            "PyTorch has version 2.4.0\n"
          ]
        }
      ],
      "source": [
        "import torch\n",
        "import os\n",
        "print(\"PyTorch has version {}\".format(torch.__version__))"
      ]
    },
    {
      "cell_type": "markdown",
      "metadata": {
        "id": "67gOQITlCNQi"
      },
      "source": [
        "# Installation"
      ]
    },
    {
      "cell_type": "code",
      "execution_count": 21,
      "metadata": {
        "colab": {
          "base_uri": "https://localhost:8080/"
        },
        "id": "J_m9l6OYCQZP",
        "outputId": "3a1915f3-4d3a-462a-cf7c-91d25cb4920d"
      },
      "outputs": [],
      "source": [
        "# # Install torch geometric\n",
        "# import os\n",
        "# if 'IS_GRADESCOPE_ENV' not in os.environ:\n",
        "#   !pip install torch-scatter -f https://pytorch-geometric.com/whl/torch-2.4.0+cu121.html\n",
        "#   !pip install torch-sparse -f https://pytorch-geometric.com/whl/torch-2.4.0+cu121.html\n",
        "#   !pip install torch-geometric\n",
        "#   !pip install -q ogb\n",
        "#   # Fix for Deepsnap PyG 2.4.x compatibility issue (https://github.com/snap-stanford/deepsnap/issues/53)\n",
        "#   !pip install -q git+https://github.com/SebastianHurubaru/deepsnap.git\n"
      ]
    },
    {
      "cell_type": "code",
      "execution_count": 22,
      "metadata": {
        "colab": {
          "base_uri": "https://localhost:8080/",
          "height": 35
        },
        "id": "PRfgbfTjCRD_",
        "outputId": "df8874ec-c447-48e8-85e1-ff5dbc209403"
      },
      "outputs": [
        {
          "data": {
            "text/plain": [
              "'2.6.1'"
            ]
          },
          "execution_count": 22,
          "metadata": {},
          "output_type": "execute_result"
        }
      ],
      "source": [
        "import torch_geometric\n",
        "torch_geometric.__version__"
      ]
    },
    {
      "cell_type": "markdown",
      "metadata": {
        "id": "WFb2OAvOSn_O"
      },
      "source": [
        "# 1) Neighbor Sampling with Different Ratios\n",
        "\n",
        "We will implement our own simplified version of Neighbor Sampling using DeepSNAP and NetworkX. Then we will use our sampler to train models with different neighborhood sampling ratios and compare their performance.\n",
        "\n",
        "To make our experiments faster, we will use the Cora graph."
      ]
    },
    {
      "cell_type": "markdown",
      "metadata": {
        "id": "P9U0F7bnSz9u"
      },
      "source": [
        "## Setup"
      ]
    },
    {
      "cell_type": "code",
      "execution_count": 23,
      "metadata": {
        "colab": {
          "base_uri": "https://localhost:8080/"
        },
        "id": "PUF4on-fSxcq",
        "outputId": "bd497e4d-5bde-4ac6-ace9-ea0378296de6"
      },
      "outputs": [],
      "source": [
        "import copy\n",
        "import torch\n",
        "import random\n",
        "import numpy as np\n",
        "import pandas as pd\n",
        "import networkx as nx\n",
        "import torch.nn as nn\n",
        "import torch.nn.functional as F\n",
        "\n",
        "from torch_geometric.nn import SAGEConv\n",
        "from torch.utils.data import DataLoader\n",
        "from torch_geometric.datasets import Planetoid\n",
        "from torch.nn import Sequential, Linear, ReLU\n",
        "from deepsnap.dataset import GraphDataset\n",
        "from deepsnap.graph import Graph\n",
        "\n",
        "if 'IS_GRADESCOPE_ENV' not in os.environ:\n",
        "  pyg_dataset = Planetoid('./tmp', \"Cora\")"
      ]
    },
    {
      "cell_type": "markdown",
      "metadata": {
        "id": "qw6k-KdFTEYw"
      },
      "source": [
        "## GNN Model\n",
        "\n",
        "We use a simple GraphSage GNN model, which we provide to you below. Similar to in section one, notice the slightly different implementations of the forward method depending on the data `mode`. When `mode = \"batch\"` we use Neighbor sampling. Thus, the data parameter contains our graph's node features (`x`) and a list `edge_indices` containing the connectivity of each GNN layer (i.e. an edge_index for each layer, defining the bipartite neighborhood computation graph). \n",
        "\n",
        "**NOTE:** Refer to sections *Neighbor Sampling* and *PyTorch Geometric Neighbor Sampler* from Colab4 for a detailed overview of the Neighbor Sampling technique."
      ]
    },
    {
      "cell_type": "code",
      "execution_count": 24,
      "metadata": {
        "id": "PvUlNi2TS09i"
      },
      "outputs": [],
      "source": [
        "class GNN(torch.nn.Module):\n",
        "    def __init__(self, input_dim, hidden_dim, output_dim, args):\n",
        "        super(GNN, self).__init__()\n",
        "        self.dropout = args['dropout']\n",
        "        self.num_layers = args['num_layers']\n",
        "\n",
        "        self.convs = nn.ModuleList()\n",
        "        self.bns = nn.ModuleList()\n",
        "\n",
        "        self.convs.append(SAGEConv(input_dim, hidden_dim))\n",
        "        self.bns.append(nn.BatchNorm1d(hidden_dim))\n",
        "\n",
        "        for l in range(self.num_layers - 2):\n",
        "            self.convs.append(SAGEConv(hidden_dim, hidden_dim))\n",
        "            self.bns.append(nn.BatchNorm1d(hidden_dim))\n",
        "        self.convs.append(SAGEConv(hidden_dim, hidden_dim))\n",
        "\n",
        "        self.post_mp = nn.Linear(hidden_dim, output_dim)\n",
        "\n",
        "    def forward(self, data, mode=\"batch\"):\n",
        "        # Observe the difference between mode == \"batch\" and mode == \"all\".\n",
        "        # In mode == \"batch\" we pass in an edge index for each conv layer\n",
        "        # corresponding to that layer's bipartite graph structure.\n",
        "        if mode == \"batch\":\n",
        "            edge_indices, x = data\n",
        "            for i in range(len(self.convs) - 1):\n",
        "                edge_index = edge_indices[i]\n",
        "                x = self.convs[i](x, edge_index)\n",
        "                x = self.bns[i](x)\n",
        "                x = F.relu(x)\n",
        "                x = F.dropout(x, p=self.dropout, training=self.training)\n",
        "            x = self.convs[-1](x, edge_indices[len(self.convs) - 1])\n",
        "        else:\n",
        "            x, edge_index = data.node_feature, data.edge_index\n",
        "            for i in range(len(self.convs) - 1):\n",
        "                x = self.convs[i](x, edge_index)\n",
        "                x = self.bns[i](x)\n",
        "                x = F.relu(x)\n",
        "                x = F.dropout(x, p=self.dropout, training=self.training)\n",
        "            x = self.convs[-1](x, edge_index)\n",
        "        x = self.post_mp(x)\n",
        "        x = F.log_softmax(x, dim=1)\n",
        "        return x"
      ]
    },
    {
      "cell_type": "markdown",
      "metadata": {
        "id": "Ulp1A3evcJ-I"
      },
      "source": [
        "## Implementing Neighbor Sampling\n",
        "\n",
        "Now let's take a stab at implementing our own basic version of Neighbor Sampling using DeepSNAP and NetworkX. To decompose the process, we will define several helper functions before finally defining our own `neighbor_sampling` function! \n",
        "\n",
        "**NOTE:** Before working through this section, we highly recommend reviewing sections `Neighbor Sampling` and `PyTorch Geometric Neighbor Sampler`. Specifically, it is important to understand how we explicitly define an `edge_index` for each GNN layer, representing the bipartite computation graph connecting the `target_nodes` that we are embedding for that layer to their relevant neighbors from the previous layer needed for message passing. "
      ]
    },
    {
      "cell_type": "markdown",
      "metadata": {
        "id": "VWneVr3_Hj4n"
      },
      "source": [
        "## **Question 1.1a**: Implementing the `sample_neighbors` function. (5 points)"
      ]
    },
    {
      "cell_type": "code",
      "execution_count": 25,
      "metadata": {
        "colab": {
          "base_uri": "https://localhost:8080/"
        },
        "id": "V1TZXvJhHjRK",
        "outputId": "659b85f5-0098-4b7a-9424-03392bf09642"
      },
      "outputs": [
        {
          "name": "stdout",
          "output_type": "stream",
          "text": [
            "Index fields: val_mask ignored.\n",
            "Index fields: train_mask ignored.\n",
            "Index fields: test_mask ignored.\n",
            "Neighbors with ratio = 1: {1632, 1090, 1315, 1316, 1093, 970, 2444, 2642, 1271, 927, 24, 2140, 2367}\n",
            "Neighbors with ratio = 0.3: {24, 2642, 2367}\n",
            "Ratio of sampled neighbors: 0.23076923076923078\n"
          ]
        }
      ],
      "source": [
        "def sample_neighbors(nodes, G, ratio, all_nodes):\n",
        "    # TODO: Implement a function that takes as input a set of nodes, \n",
        "    # a NetworkX graph G, a neighbor sampling ratio, and a set containing all nodes \n",
        "    # and returns:\n",
        "    #   1. A set of the sampled nodes\n",
        "    #   2. A set union between `all_nodes` and the newly sampled neighbor nodes.\n",
        "    #      This allows us to track the nodes needed across all message passing layers.\n",
        "    #   3. The set of edges connecting the sampled neighboring nodes to our input\n",
        "    #      set of nodes. Represents a bi-partite graph between targets (nodes)\n",
        "    #      and source (neighbor) nodes.\n",
        "\n",
        "    neighbors = set()\n",
        "    edges = []\n",
        "\n",
        "    ############# Your code here ############\n",
        "    ## (~8-10 line of code)\n",
        "    ## Note:\n",
        "    ## 1. You will will need to sample neighbors from each node given to you in \n",
        "    ##    `nodes` list. \n",
        "    ##    Hint: Use graph `G` to assist in obtaining the neighbors of each node. \n",
        "    ## 2. The number of neighbors to be sampled based on the `ratio` parameter \n",
        "    ##    must be rounded **down** to get an integer value\n",
        "    ## 3. Randomly sample neighbors without replacement (i.e. the same neighbors \n",
        "    ##    should not be selected more than once for a given node) \n",
        "    ## 4. The neighbors are stored in a set data structure to ensure that duplicates\n",
        "    ##    are avoided.  This is useful as the set union will be taken with `all_nodes`. \n",
        "    ## 5. The edges list should contain all edges sampled in the form of a tuple\n",
        "    ##    of (neighbor, node)  \n",
        "    # pass\n",
        "    ########################################## \n",
        "    for node in nodes:\n",
        "        node_neighbors = list(G.neighbors(node))\n",
        "        num_neighbors = int(len(node_neighbors) * ratio)\n",
        "        \n",
        "        if num_neighbors > 0:\n",
        "            sampled_neighbors = np.random.choice(node_neighbors, num_neighbors, replace=False)\n",
        "            neighbors.update(sampled_neighbors)\n",
        "            edges.extend((neighbor, node) for neighbor in sampled_neighbors)\n",
        "\n",
        "    return neighbors, neighbors.union(all_nodes), edges\n",
        "  \n",
        "if 'IS_GRADESCOPE_ENV' not in os.environ:\n",
        "  graphs_train, _, _ = \\\n",
        "      GraphDataset.pyg_to_graphs(pyg_dataset, verbose=True, fixed_split=True)\n",
        "\n",
        "  graph_train = graphs_train[0]\n",
        "\n",
        "  nodes = [15, 16, 17]\n",
        "  neighbors_full, _, _ = sample_neighbors(nodes, graph_train.G, 1, set())\n",
        "  neighbors_sampled, _, _ = sample_neighbors(nodes, graph_train.G, 0.3, set())\n",
        "  print (\"Neighbors with ratio = 1:\", neighbors_full)\n",
        "  print (\"Neighbors with ratio = 0.3:\", neighbors_sampled)\n",
        "  # Note that this is not expected to be 0.3. Since we apply\n",
        "  # our sampling ratio for each node, the number of neighbors\n",
        "  # for each node may not evenly divide by the ratio   \n",
        "  print (\"Ratio of sampled neighbors:\", len(neighbors_sampled) / len(neighbors_full))\n",
        "#   23%\n"
      ]
    },
    {
      "cell_type": "markdown",
      "metadata": {
        "id": "4NKNh4TEJ8_p"
      },
      "source": [
        "## Tensor transformation and node relabeling helper functions. "
      ]
    },
    {
      "cell_type": "code",
      "execution_count": 26,
      "metadata": {
        "id": "H2PeBMJIJ9Tn"
      },
      "outputs": [],
      "source": [
        "def nodes_to_tensor(nodes):\n",
        "    \"\"\"\n",
        "      Transforms a set of nodes into a node index tensor.\n",
        "    \"\"\"\n",
        "\n",
        "    node_label_index = torch.tensor(list(nodes), dtype=torch.long)\n",
        "    return node_label_index\n",
        "\n",
        "\n",
        "def edges_to_tensor(edges):\n",
        "    \"\"\"\n",
        "      Transforms a list of undirected edges into the corresponding PyG\n",
        "      edge_index tensor representation. Notice that we explicitly make\n",
        "      sure to include both edge directions.  \n",
        "    \"\"\"\n",
        "\n",
        "    edge_index = torch.tensor(list(edges), dtype=torch.long)\n",
        "    edge_index = torch.cat([edge_index, torch.flip(edge_index, [1])], dim=0)\n",
        "    edge_index = edge_index.permute(1, 0)\n",
        "\n",
        "    return edge_index\n",
        "\n",
        "def relabel(nodes, labeled_nodes, edges_list):\n",
        "    \"\"\"\n",
        "      Relabel nodes with 0 based indeces.\n",
        "      \n",
        "      During the sampling process, we are likely to sample a list of\n",
        "      non-continuous node ids. However, our GNN models rely on continuous\n",
        "      0 based indexing to index into the rows of our node features matrix \n",
        "      based on edges in the graph (edge_index)\n",
        "    \"\"\"\n",
        "\n",
        "    relabeled_edges_list = []\n",
        "    sorted_nodes = sorted(nodes)\n",
        "    node_mapping = {node : i for i, node in enumerate(sorted_nodes)}\n",
        "    for orig_edges in edges_list:\n",
        "        relabeled_edges = []\n",
        "        for edge in orig_edges:\n",
        "            relabeled_edges.append((node_mapping[edge[0]], node_mapping[edge[1]]))\n",
        "        relabeled_edges_list.append(relabeled_edges)\n",
        "    relabeled_labeled_nodes = [node_mapping[node] for node in labeled_nodes]\n",
        "    relabeled_nodes = [node_mapping[node] for node in nodes]\n",
        "\n",
        "    return relabeled_edges_list, relabeled_nodes, relabeled_labeled_nodes, sorted_nodes\n"
      ]
    },
    {
      "cell_type": "markdown",
      "metadata": {
        "id": "El-2h_ApOJYP"
      },
      "source": [
        "## **Question 1.1b**: Putting it all together - Implementing our own Neighbor Sampling function. (4 points)\n",
        "\n",
        "Now that we've developed a better understanding of what the Neighbor Sampling function does, we will implement our own version of it. Instead of choosing $H_k$ number of samples at each layer, we will use a ratio of the number of neigbors that a givn node has. Can you think of the pros and cons of using a ratio of the number of neighbors for a node at different layers?  "
      ]
    },
    {
      "cell_type": "code",
      "execution_count": 28,
      "metadata": {
        "colab": {
          "base_uri": "https://localhost:8080/"
        },
        "id": "LI4qHkE4cQOh",
        "outputId": "de449487-a8be-444e-9795-14d97773fc19"
      },
      "outputs": [
        {
          "name": "stdout",
          "output_type": "stream",
          "text": [
            "Index fields: val_mask ignored.\n",
            "Index fields: train_mask ignored.\n",
            "Index fields: test_mask ignored.\n",
            "Sampled 1872 nodes, 3061 edges, 140 labeled nodes\n"
          ]
        }
      ],
      "source": [
        "def neighbor_sampling(graph, K=2, ratios=(0.1, 0.1, 0.1)):\n",
        "    # TODO: Implement a function that performs Neighbor Sampling on an input\n",
        "    # graph G for a K layer GNN. Notice that len(ratios) = K + 1. Ratios[-1]\n",
        "    # determines size of our mini-batch (i.e. the number of labeled \n",
        "    # nodes we sample computation graphs for). \n",
        "\n",
        "    assert K + 1 == len(ratios)\n",
        "\n",
        "    labeled_nodes = graph.node_label_index.tolist()\n",
        "    random.shuffle(labeled_nodes)\n",
        "    num = int(len(labeled_nodes) * ratios[-1])\n",
        "    if num > 0:\n",
        "        labeled_nodes = labeled_nodes[:num]\n",
        "    nodes_list = [set(labeled_nodes)]\n",
        "    edges_list = []\n",
        "    all_nodes = labeled_nodes\n",
        "\n",
        "    ############# Your code here ############\n",
        "    ## (~4-6 line of code)\n",
        "    ## Note:\n",
        "    ## 1. Using your previously defined `sample_neighbors` function, build up the \n",
        "    ##    edges_list for our K layer network.\n",
        "    ## 2. nodes_list is a list where nodes_list[i] is set of nodes used for message\n",
        "    ##    passing in layer i+1 of our GNN (i.e. level i in our computation graph).\n",
        "    ##    Notice, nodes_list[-1] represents the target nodes we want to \n",
        "    ##    embedd in the mini-batch.\n",
        "    ## 3. edge_list is a list of the bi-partite edge conections between layers\n",
        "    ##    in the computation graph.\n",
        "    ## 4. all_nodes is used to track all the nodes needed for message passing.\n",
        "    ## 5. Remember in a GNN, information flows from the base of the computation\n",
        "    ##    graph to the root. How does this affect the way we add to the nodes_list \n",
        "    ##    and edge_list, as well as how we read from ratios (ratios[-1] \n",
        "    ##    represents the root nodes in our computation graph)?\n",
        "    # pass\n",
        "    #########################################\n",
        "    for i in range(K):\n",
        "        # Note: Confirm the logic of indices for ratios\n",
        "        ratio = ratios[K - 1 - i]\n",
        "\n",
        "        neighbors_i, all_nodes_updated, sampled_edges = sample_neighbors(nodes_list[-1], graph.G, ratio, all_nodes)\n",
        "        all_nodes = all_nodes_updated  # Update the global set of all nodes\n",
        "        edges_list.insert(0, sampled_edges)  # Insert at the beginning\n",
        "        source_nodes = set(edge[0] for edge in sampled_edges)\n",
        "        nodes_list.append(source_nodes)\n",
        "\n",
        "\n",
        "    relabeled_edges_list, relabeled_all_nodes, relabeled_labeled_nodes, sorted_original_nodes = \\\n",
        "        relabel(all_nodes, labeled_nodes, edges_list)\n",
        "\n",
        "    node_index = nodes_to_tensor(sorted_original_nodes)\n",
        "    # All node features that will be used\n",
        "    node_feature = graph.node_feature[node_index]\n",
        "    edge_indices = [edges_to_tensor(edges) for edges in relabeled_edges_list]\n",
        "    node_label_index = nodes_to_tensor(relabeled_labeled_nodes)\n",
        "    orig_node_label_index = nodes_to_tensor(labeled_nodes)\n",
        "    log = \"Sampled {} nodes, {} edges, {} labeled nodes\"\n",
        "    print(log.format(node_feature.shape[0], edge_indices[0].shape[1] // 2, node_label_index.shape[0]))\n",
        "    return node_feature, edge_indices, node_label_index, orig_node_label_index\n",
        "\n",
        "if 'IS_GRADESCOPE_ENV' not in os.environ:\n",
        "  # Need to define some basic test! Primarily to test whether they build \n",
        "  # in the correct reverse order. So ideally something like ratio = (0.3, 0.5, 0.8).\n",
        "  # Just need to check shapes.\n",
        "  \n",
        "  graphs_train, _, _ = \\\n",
        "      GraphDataset.pyg_to_graphs(pyg_dataset, verbose=True, fixed_split=True)\n",
        "\n",
        "  graph_train = graphs_train[0]\n",
        "\n",
        "  node_feature, edge_indices, node_label_index, _ = neighbor_sampling(graph_train, K=3, ratios=(0.5, 0.8, 1, 1))"
      ]
    },
    {
      "cell_type": "markdown",
      "metadata": {
        "id": "ooy6Hcf7TIhI"
      },
      "source": [
        "## Training and Testing\n",
        "\n",
        "Additionally, notice that node classification task on Cora is a semi-supervised classification task, here we keep all the labeled training nodes (140 nodes) by setting the last ratio to 1."
      ]
    },
    {
      "cell_type": "code",
      "execution_count": 29,
      "metadata": {
        "id": "iSmZhpzPTGPY"
      },
      "outputs": [],
      "source": [
        "def train(train_graphs, val_graphs, args, model, optimizer, mode=\"batch\"):\n",
        "    best_val = 0\n",
        "    best_model = None\n",
        "    accs = []\n",
        "    graph_train = train_graphs[0]\n",
        "    graph_train.to(args['device'])\n",
        "    for epoch in range(1, 1 + args['epochs']):\n",
        "        model.train()\n",
        "        optimizer.zero_grad()\n",
        "        if mode == \"batch\":\n",
        "            node_feature, edge_indices, node_label_index, orig_node_index = neighbor_sampling(graph_train, args['num_layers'], args['ratios'])\n",
        "            node_feature = node_feature.to(args['device'])\n",
        "            node_label_index = node_label_index.to(args['device'])\n",
        "            for i in range(len(edge_indices)):\n",
        "                edge_indices[i] = edge_indices[i].to(args['device'])\n",
        "            pred = model([edge_indices, node_feature])\n",
        "            pred = pred[node_label_index]\n",
        "            label = graph_train.node_label[orig_node_index]\n",
        "        elif mode == \"community\":\n",
        "            graph = random.choice(train_graphs)\n",
        "            graph = graph.to(args['device'])\n",
        "            pred = model(graph, mode=\"all\")\n",
        "            pred = pred[graph.node_label_index]\n",
        "            label = graph.node_label[graph.node_label_index]\n",
        "        else:\n",
        "            pred = model(graph_train, mode=\"all\")\n",
        "            label = graph_train.node_label\n",
        "            pred = pred[graph_train.node_label_index]\n",
        "        loss = F.nll_loss(pred, label)\n",
        "        loss.backward()\n",
        "        optimizer.step()\n",
        "\n",
        "        train_acc, val_acc, test_acc = test(val_graphs, model)\n",
        "        accs.append((train_acc, val_acc, test_acc))\n",
        "        if val_acc > best_val:\n",
        "            best_val = val_acc\n",
        "            best_model = copy.deepcopy(model)\n",
        "        print(f'Epoch: {epoch:02d}, '\n",
        "              f'Loss: {loss:.4f}, '\n",
        "              f'Train: {100 * train_acc:.2f}%, '\n",
        "              f'Valid: {100 * val_acc:.2f}% '\n",
        "              f'Test: {100 * test_acc:.2f}%')\n",
        "    return best_model, accs\n",
        "\n",
        "def test(graphs, model, save_model_results=False, batch_type=\"batch\", title=None):\n",
        "    model.eval()\n",
        "    accs = []\n",
        "  \n",
        "    for graph in graphs:\n",
        "        graph = graph.to(args['device'])\n",
        "        pred = model(graph, mode=\"all\")\n",
        "        label = graph.node_label\n",
        "        pred = pred[graph.node_label_index].max(1)[1]\n",
        "        acc = pred.eq(label).sum().item()\n",
        "        acc /= len(label)\n",
        "        accs.append(acc)\n",
        "    \n",
        "    if save_model_results:\n",
        "      print (\"Saving Model Predictions for Model:\", batch_type, title)\n",
        "\n",
        "      data = {}\n",
        "      # The last dataset we test is the test graph\n",
        "      data['pred'] = pred.view(-1).cpu().detach().numpy()\n",
        "      data['label'] = label.view(-1).cpu().detach().numpy()\n",
        "\n",
        "      df = pd.DataFrame(data=data)\n",
        "      # Save locally as csv\n",
        "      file_name = 'CORA_Node_' + batch_type\n",
        "      if title is not None:\n",
        "        file_name = file_name + \"_\" + title\n",
        "\n",
        "      df.to_csv(file_name + '.csv', sep=',', index=False)\n",
        "\n",
        "    return accs"
      ]
    },
    {
      "cell_type": "code",
      "execution_count": 30,
      "metadata": {
        "id": "HV7i0v0ETKzf"
      },
      "outputs": [],
      "source": [
        "args = {\n",
        "    'device': torch.device('cuda' if torch.cuda.is_available() else 'cpu'),\n",
        "    'dropout': 0.5,\n",
        "    'num_layers': 2,\n",
        "    'hidden_size': 64,\n",
        "    'lr': 0.005,\n",
        "    'epochs': 50,\n",
        "    'ratios': (0.8, 0.8, 1),\n",
        "}"
      ]
    },
    {
      "cell_type": "code",
      "execution_count": 31,
      "metadata": {
        "id": "kfiKId8-iBj1"
      },
      "outputs": [],
      "source": [
        "def set_seed(seed=224):\n",
        "\n",
        "    random.seed(seed)\n",
        "    np.random.seed(seed)\n",
        "    torch.manual_seed(seed)\n",
        "    torch.backends.cudnn.benchmark = False"
      ]
    },
    {
      "cell_type": "markdown",
      "metadata": {
        "id": "rLpRYKbnTQnj"
      },
      "source": [
        "## Full-Batch Training\n",
        "\n",
        "As a baseline, we train our GNN model over the entire graph without any Neighbor Sampling."
      ]
    },
    {
      "cell_type": "code",
      "execution_count": 32,
      "metadata": {
        "colab": {
          "base_uri": "https://localhost:8080/"
        },
        "id": "pMGGjbJBTOo1",
        "outputId": "9d5c3068-1da9-4453-f1c5-332ffec090e3"
      },
      "outputs": [
        {
          "name": "stdout",
          "output_type": "stream",
          "text": [
            "Index fields: val_mask ignored.\n",
            "Index fields: train_mask ignored.\n",
            "Index fields: test_mask ignored.\n",
            "Epoch: 01, Loss: 1.9927, Train: 65.71%, Valid: 30.80% Test: 36.20%\n",
            "Epoch: 02, Loss: 1.0889, Train: 97.14%, Valid: 53.20% Test: 57.20%\n",
            "Epoch: 03, Loss: 0.6262, Train: 99.29%, Valid: 66.80% Test: 68.40%\n",
            "Epoch: 04, Loss: 0.2879, Train: 100.00%, Valid: 72.80% Test: 72.70%\n",
            "Epoch: 05, Loss: 0.1308, Train: 100.00%, Valid: 73.60% Test: 74.00%\n",
            "Epoch: 06, Loss: 0.0578, Train: 100.00%, Valid: 74.00% Test: 74.60%\n",
            "Epoch: 07, Loss: 0.0459, Train: 100.00%, Valid: 74.60% Test: 74.60%\n",
            "Epoch: 08, Loss: 0.0201, Train: 100.00%, Valid: 75.00% Test: 74.70%\n",
            "Epoch: 09, Loss: 0.0123, Train: 100.00%, Valid: 74.20% Test: 74.20%\n",
            "Epoch: 10, Loss: 0.0086, Train: 100.00%, Valid: 73.60% Test: 74.00%\n",
            "Epoch: 11, Loss: 0.0052, Train: 100.00%, Valid: 73.40% Test: 73.90%\n",
            "Epoch: 12, Loss: 0.0038, Train: 100.00%, Valid: 73.20% Test: 73.90%\n",
            "Epoch: 13, Loss: 0.0087, Train: 100.00%, Valid: 73.60% Test: 73.80%\n",
            "Epoch: 14, Loss: 0.0017, Train: 100.00%, Valid: 73.60% Test: 73.80%\n",
            "Epoch: 15, Loss: 0.0024, Train: 100.00%, Valid: 73.00% Test: 73.60%\n",
            "Epoch: 16, Loss: 0.0035, Train: 100.00%, Valid: 73.00% Test: 73.20%\n",
            "Epoch: 17, Loss: 0.0025, Train: 100.00%, Valid: 72.80% Test: 73.20%\n",
            "Epoch: 18, Loss: 0.0023, Train: 100.00%, Valid: 73.00% Test: 72.90%\n",
            "Epoch: 19, Loss: 0.0003, Train: 100.00%, Valid: 72.80% Test: 73.10%\n",
            "Epoch: 20, Loss: 0.0001, Train: 100.00%, Valid: 73.00% Test: 73.50%\n",
            "Epoch: 21, Loss: 0.0013, Train: 100.00%, Valid: 73.00% Test: 73.30%\n",
            "Epoch: 22, Loss: 0.0002, Train: 100.00%, Valid: 72.80% Test: 73.30%\n",
            "Epoch: 23, Loss: 0.0010, Train: 100.00%, Valid: 72.80% Test: 73.30%\n",
            "Epoch: 24, Loss: 0.0002, Train: 100.00%, Valid: 72.60% Test: 73.30%\n",
            "Epoch: 25, Loss: 0.0002, Train: 100.00%, Valid: 72.20% Test: 73.30%\n",
            "Epoch: 26, Loss: 0.0000, Train: 100.00%, Valid: 72.20% Test: 73.20%\n",
            "Epoch: 27, Loss: 0.0052, Train: 100.00%, Valid: 72.20% Test: 73.10%\n",
            "Epoch: 28, Loss: 0.0003, Train: 100.00%, Valid: 72.40% Test: 73.20%\n",
            "Epoch: 29, Loss: 0.0001, Train: 100.00%, Valid: 72.20% Test: 73.10%\n",
            "Epoch: 30, Loss: 0.0001, Train: 100.00%, Valid: 72.40% Test: 73.20%\n",
            "Epoch: 31, Loss: 0.0003, Train: 100.00%, Valid: 72.40% Test: 73.30%\n",
            "Epoch: 32, Loss: 0.0001, Train: 100.00%, Valid: 72.40% Test: 73.50%\n",
            "Epoch: 33, Loss: 0.0003, Train: 100.00%, Valid: 72.40% Test: 73.50%\n",
            "Epoch: 34, Loss: 0.0005, Train: 100.00%, Valid: 72.40% Test: 73.50%\n",
            "Epoch: 35, Loss: 0.0002, Train: 100.00%, Valid: 72.60% Test: 73.70%\n",
            "Epoch: 36, Loss: 0.0000, Train: 100.00%, Valid: 72.40% Test: 73.80%\n",
            "Epoch: 37, Loss: 0.0004, Train: 100.00%, Valid: 72.40% Test: 73.90%\n",
            "Epoch: 38, Loss: 0.0007, Train: 100.00%, Valid: 72.40% Test: 73.90%\n",
            "Epoch: 39, Loss: 0.0004, Train: 100.00%, Valid: 72.40% Test: 74.00%\n",
            "Epoch: 40, Loss: 0.0001, Train: 100.00%, Valid: 72.40% Test: 74.00%\n",
            "Epoch: 41, Loss: 0.0000, Train: 100.00%, Valid: 72.40% Test: 74.20%\n",
            "Epoch: 42, Loss: 0.0000, Train: 100.00%, Valid: 72.40% Test: 74.20%\n",
            "Epoch: 43, Loss: 0.0000, Train: 100.00%, Valid: 72.40% Test: 74.10%\n",
            "Epoch: 44, Loss: 0.0001, Train: 100.00%, Valid: 72.20% Test: 74.10%\n",
            "Epoch: 45, Loss: 0.0001, Train: 100.00%, Valid: 72.40% Test: 74.10%\n",
            "Epoch: 46, Loss: 0.0003, Train: 100.00%, Valid: 72.60% Test: 74.10%\n",
            "Epoch: 47, Loss: 0.0001, Train: 100.00%, Valid: 72.60% Test: 74.10%\n",
            "Epoch: 48, Loss: 0.0002, Train: 100.00%, Valid: 72.60% Test: 74.10%\n",
            "Epoch: 49, Loss: 0.0001, Train: 100.00%, Valid: 72.60% Test: 74.10%\n",
            "Epoch: 50, Loss: 0.0001, Train: 100.00%, Valid: 72.60% Test: 74.20%\n",
            "Best model: Train: 100.00%, Valid: 75.00% Test: 74.70%\n"
          ]
        }
      ],
      "source": [
        "if 'IS_GRADESCOPE_ENV' not in os.environ:\n",
        "  \n",
        "  set_seed()\n",
        "\n",
        "  graphs_train, graphs_val, graphs_test = \\\n",
        "      GraphDataset.pyg_to_graphs(pyg_dataset, verbose=True, fixed_split=True)\n",
        "\n",
        "  graph_train = graphs_train[0]\n",
        "  graph_val = graphs_val[0]\n",
        "  graph_test = graphs_test[0]\n",
        "\n",
        "  model = GNN(graph_train.num_node_features, args['hidden_size'], graph_train.num_node_labels, args).to(args['device'])\n",
        "\n",
        "  # Disable compile as this does not seem to work yet in PyTorch 2.0.1/PyG 2.3.1\n",
        "  # try:\n",
        "  #   model = torch_geometric.compile(model)\n",
        "  #   print(f\"GNN Model compiled\")\n",
        "  # except Exception as err:\n",
        "  #   print(f\"Model compile not supported: {err}\")\n",
        "\n",
        "  optimizer = torch.optim.Adam(model.parameters(), lr=args['lr'])\n",
        "  graphs = [graph_train, graph_val, graph_test]\n",
        "  all_best_model, all_accs = train(graphs, graphs, args, model, optimizer, mode=\"all\")\n",
        "  train_acc, val_acc, test_acc = test([graph_train, graph_val, graph_test], all_best_model)\n",
        "  print('Best model:',\n",
        "        f'Train: {100 * train_acc:.2f}%, '\n",
        "        f'Valid: {100 * val_acc:.2f}% '\n",
        "        f'Test: {100 * test_acc:.2f}%')"
      ]
    },
    {
      "cell_type": "markdown",
      "metadata": {
        "id": "JWkGiwB6Thr4"
      },
      "source": [
        "## **Question 1.2a:** What is the maximum test accuracy using samping ratios = (0.7, 0.9, 1)? (12 points)\n",
        "\n",
        "Running the cell below will show the results of your best model and save your best model's predictions to a file named CORA_Node_batch_(0.7, 0.9, 1).csv'.\n",
        "\n",
        "As we have seen before you can view this file by clicking on the Folder icon on the left side pannel. When you sumbit your assignment, you will have to download this file and attatch it to your submission."
      ]
    },
    {
      "cell_type": "code",
      "execution_count": 33,
      "metadata": {
        "colab": {
          "base_uri": "https://localhost:8080/"
        },
        "id": "yWusJ9u3Tfhv",
        "outputId": "000b9140-e038-48a6-f79e-f02a4c4c1e98"
      },
      "outputs": [
        {
          "name": "stdout",
          "output_type": "stream",
          "text": [
            "Index fields: val_mask ignored.\n",
            "Index fields: train_mask ignored.\n",
            "Index fields: test_mask ignored.\n",
            "Sampled 1253 nodes, 1820 edges, 140 labeled nodes\n",
            "Epoch: 01, Loss: 1.9808, Train: 49.29%, Valid: 19.80% Test: 23.10%\n",
            "Sampled 1285 nodes, 1843 edges, 140 labeled nodes\n",
            "Epoch: 02, Loss: 1.3057, Train: 92.14%, Valid: 44.60% Test: 50.90%\n",
            "Sampled 1246 nodes, 1774 edges, 140 labeled nodes\n",
            "Epoch: 03, Loss: 0.9227, Train: 95.71%, Valid: 62.60% Test: 64.30%\n",
            "Sampled 1283 nodes, 1815 edges, 140 labeled nodes\n",
            "Epoch: 04, Loss: 0.5879, Train: 97.14%, Valid: 66.00% Test: 69.50%\n",
            "Sampled 1295 nodes, 1856 edges, 140 labeled nodes\n",
            "Epoch: 05, Loss: 0.3550, Train: 98.57%, Valid: 67.00% Test: 70.50%\n",
            "Sampled 1211 nodes, 1732 edges, 140 labeled nodes\n",
            "Epoch: 06, Loss: 0.2442, Train: 99.29%, Valid: 68.20% Test: 71.60%\n",
            "Sampled 1276 nodes, 1827 edges, 140 labeled nodes\n",
            "Epoch: 07, Loss: 0.1793, Train: 99.29%, Valid: 70.40% Test: 73.40%\n",
            "Sampled 1288 nodes, 1849 edges, 140 labeled nodes\n",
            "Epoch: 08, Loss: 0.1235, Train: 99.29%, Valid: 73.00% Test: 74.50%\n",
            "Sampled 1300 nodes, 1859 edges, 140 labeled nodes\n",
            "Epoch: 09, Loss: 0.0929, Train: 99.29%, Valid: 74.00% Test: 74.90%\n",
            "Sampled 1227 nodes, 1778 edges, 140 labeled nodes\n",
            "Epoch: 10, Loss: 0.0497, Train: 99.29%, Valid: 74.60% Test: 75.20%\n",
            "Sampled 1255 nodes, 1781 edges, 140 labeled nodes\n",
            "Epoch: 11, Loss: 0.0376, Train: 99.29%, Valid: 74.80% Test: 76.10%\n",
            "Sampled 1299 nodes, 1842 edges, 140 labeled nodes\n",
            "Epoch: 12, Loss: 0.0347, Train: 99.29%, Valid: 74.60% Test: 76.00%\n",
            "Sampled 1209 nodes, 1740 edges, 140 labeled nodes\n",
            "Epoch: 13, Loss: 0.0354, Train: 99.29%, Valid: 75.40% Test: 76.50%\n",
            "Sampled 1260 nodes, 1806 edges, 140 labeled nodes\n",
            "Epoch: 14, Loss: 0.0273, Train: 100.00%, Valid: 75.40% Test: 76.40%\n",
            "Sampled 1275 nodes, 1803 edges, 140 labeled nodes\n",
            "Epoch: 15, Loss: 0.0241, Train: 100.00%, Valid: 74.60% Test: 76.10%\n",
            "Sampled 1288 nodes, 1835 edges, 140 labeled nodes\n",
            "Epoch: 16, Loss: 0.0113, Train: 100.00%, Valid: 74.60% Test: 76.00%\n",
            "Sampled 1238 nodes, 1736 edges, 140 labeled nodes\n",
            "Epoch: 17, Loss: 0.0053, Train: 100.00%, Valid: 74.60% Test: 75.90%\n",
            "Sampled 1270 nodes, 1813 edges, 140 labeled nodes\n",
            "Epoch: 18, Loss: 0.0237, Train: 100.00%, Valid: 74.60% Test: 76.10%\n",
            "Sampled 1236 nodes, 1748 edges, 140 labeled nodes\n",
            "Epoch: 19, Loss: 0.0141, Train: 100.00%, Valid: 74.60% Test: 76.00%\n",
            "Sampled 1245 nodes, 1752 edges, 140 labeled nodes\n",
            "Epoch: 20, Loss: 0.0028, Train: 100.00%, Valid: 74.80% Test: 75.90%\n",
            "Sampled 1251 nodes, 1829 edges, 140 labeled nodes\n",
            "Epoch: 21, Loss: 0.0044, Train: 100.00%, Valid: 74.40% Test: 75.90%\n",
            "Sampled 1275 nodes, 1827 edges, 140 labeled nodes\n",
            "Epoch: 22, Loss: 0.0087, Train: 100.00%, Valid: 74.20% Test: 76.00%\n",
            "Sampled 1238 nodes, 1762 edges, 140 labeled nodes\n",
            "Epoch: 23, Loss: 0.0055, Train: 100.00%, Valid: 74.20% Test: 75.90%\n",
            "Sampled 1261 nodes, 1802 edges, 140 labeled nodes\n",
            "Epoch: 24, Loss: 0.0028, Train: 100.00%, Valid: 74.60% Test: 75.60%\n",
            "Sampled 1247 nodes, 1803 edges, 140 labeled nodes\n",
            "Epoch: 25, Loss: 0.0090, Train: 100.00%, Valid: 73.80% Test: 75.30%\n",
            "Sampled 1271 nodes, 1834 edges, 140 labeled nodes\n",
            "Epoch: 26, Loss: 0.0025, Train: 100.00%, Valid: 74.00% Test: 75.40%\n",
            "Sampled 1260 nodes, 1802 edges, 140 labeled nodes\n",
            "Epoch: 27, Loss: 0.0007, Train: 100.00%, Valid: 73.80% Test: 75.60%\n",
            "Sampled 1274 nodes, 1762 edges, 140 labeled nodes\n",
            "Epoch: 28, Loss: 0.0103, Train: 100.00%, Valid: 73.60% Test: 75.60%\n",
            "Sampled 1257 nodes, 1788 edges, 140 labeled nodes\n",
            "Epoch: 29, Loss: 0.0019, Train: 100.00%, Valid: 73.60% Test: 75.60%\n",
            "Sampled 1258 nodes, 1774 edges, 140 labeled nodes\n",
            "Epoch: 30, Loss: 0.0007, Train: 100.00%, Valid: 73.40% Test: 75.40%\n",
            "Sampled 1238 nodes, 1779 edges, 140 labeled nodes\n",
            "Epoch: 31, Loss: 0.0005, Train: 100.00%, Valid: 73.40% Test: 75.30%\n",
            "Sampled 1264 nodes, 1769 edges, 140 labeled nodes\n",
            "Epoch: 32, Loss: 0.0065, Train: 100.00%, Valid: 73.40% Test: 75.30%\n",
            "Sampled 1231 nodes, 1792 edges, 140 labeled nodes\n",
            "Epoch: 33, Loss: 0.0016, Train: 100.00%, Valid: 73.40% Test: 75.20%\n",
            "Sampled 1268 nodes, 1791 edges, 140 labeled nodes\n",
            "Epoch: 34, Loss: 0.0013, Train: 100.00%, Valid: 73.40% Test: 75.10%\n",
            "Sampled 1266 nodes, 1830 edges, 140 labeled nodes\n",
            "Epoch: 35, Loss: 0.0102, Train: 100.00%, Valid: 73.40% Test: 75.20%\n",
            "Sampled 1284 nodes, 1780 edges, 140 labeled nodes\n",
            "Epoch: 36, Loss: 0.0034, Train: 100.00%, Valid: 73.20% Test: 75.10%\n",
            "Sampled 1274 nodes, 1806 edges, 140 labeled nodes\n",
            "Epoch: 37, Loss: 0.0023, Train: 100.00%, Valid: 73.00% Test: 75.20%\n",
            "Sampled 1261 nodes, 1777 edges, 140 labeled nodes\n",
            "Epoch: 38, Loss: 0.0014, Train: 100.00%, Valid: 73.00% Test: 75.20%\n",
            "Sampled 1291 nodes, 1818 edges, 140 labeled nodes\n",
            "Epoch: 39, Loss: 0.0010, Train: 100.00%, Valid: 72.80% Test: 75.00%\n",
            "Sampled 1240 nodes, 1737 edges, 140 labeled nodes\n",
            "Epoch: 40, Loss: 0.0021, Train: 100.00%, Valid: 73.00% Test: 75.00%\n",
            "Sampled 1268 nodes, 1779 edges, 140 labeled nodes\n",
            "Epoch: 41, Loss: 0.0007, Train: 100.00%, Valid: 73.00% Test: 75.00%\n",
            "Sampled 1255 nodes, 1790 edges, 140 labeled nodes\n",
            "Epoch: 42, Loss: 0.0006, Train: 100.00%, Valid: 73.00% Test: 74.90%\n",
            "Sampled 1280 nodes, 1805 edges, 140 labeled nodes\n",
            "Epoch: 43, Loss: 0.0011, Train: 100.00%, Valid: 73.00% Test: 74.80%\n",
            "Sampled 1232 nodes, 1775 edges, 140 labeled nodes\n",
            "Epoch: 44, Loss: 0.0011, Train: 100.00%, Valid: 73.20% Test: 74.70%\n",
            "Sampled 1240 nodes, 1750 edges, 140 labeled nodes\n",
            "Epoch: 45, Loss: 0.0008, Train: 100.00%, Valid: 73.00% Test: 74.80%\n",
            "Sampled 1274 nodes, 1800 edges, 140 labeled nodes\n",
            "Epoch: 46, Loss: 0.0017, Train: 100.00%, Valid: 73.00% Test: 74.50%\n",
            "Sampled 1266 nodes, 1826 edges, 140 labeled nodes\n",
            "Epoch: 47, Loss: 0.0025, Train: 100.00%, Valid: 73.00% Test: 74.70%\n",
            "Sampled 1274 nodes, 1829 edges, 140 labeled nodes\n",
            "Epoch: 48, Loss: 0.0019, Train: 100.00%, Valid: 73.00% Test: 74.70%\n",
            "Sampled 1232 nodes, 1741 edges, 140 labeled nodes\n",
            "Epoch: 49, Loss: 0.0086, Train: 100.00%, Valid: 72.80% Test: 74.80%\n",
            "Sampled 1258 nodes, 1807 edges, 140 labeled nodes\n",
            "Epoch: 50, Loss: 0.0008, Train: 100.00%, Valid: 72.40% Test: 74.80%\n",
            "Saving Model Predictions for Model: batch (0.7,0.9,1)\n",
            "Best model: Train: 99.29%, Valid: 75.40% Test: 76.50%\n"
          ]
        }
      ],
      "source": [
        "if 'IS_GRADESCOPE_ENV' not in os.environ:\n",
        "  \n",
        "  set_seed()\n",
        "\n",
        "  args['ratios'] = (0.7, 0.9, 1)\n",
        "\n",
        "  graphs_train, graphs_val, graphs_test = \\\n",
        "      GraphDataset.pyg_to_graphs(pyg_dataset, verbose=True, fixed_split=True)\n",
        "\n",
        "  graph_train = graphs_train[0]\n",
        "  graph_val = graphs_val[0]\n",
        "  graph_test = graphs_test[0]\n",
        "\n",
        "  model = GNN(graph_train.num_node_features, args['hidden_size'], graph_train.num_node_labels, args).to(args['device'])\n",
        "\n",
        "  # Disable compile as this does not seem to work yet in PyTorch 2.0.1/PyG 2.3.1\n",
        "  # try:\n",
        "  #   model = torch_geometric.compile(model)\n",
        "  #   print(f\"GNN Model compiled\")\n",
        "  # except Exception as err:\n",
        "  #   print(f\"Model compile not supported: {err}\")\n",
        "    \n",
        "  optimizer = torch.optim.Adam(model.parameters(), lr=args['lr'])\n",
        "  graphs = [graph_train, graph_val, graph_test]\n",
        "  batch_best_model, batch_accs = train(graphs, graphs, args, model, optimizer)\n",
        "  train_acc, val_acc, test_acc = test([graph_train, graph_val, graph_test], batch_best_model, save_model_results=True, batch_type=\"batch\", title=\"(0.7,0.9,1)\")\n",
        "  print('Best model:',\n",
        "        f'Train: {100 * train_acc:.2f}%, '\n",
        "        f'Valid: {100 * val_acc:.2f}% '\n",
        "        f'Test: {100 * test_acc:.2f}%')"
      ]
    },
    {
      "cell_type": "markdown",
      "metadata": {
        "id": "w_FjkNHDT4c6"
      },
      "source": [
        "## **Question 1.2b:** What is the maximum test accuracy using samping ratios = (0.3, 0.5, 1)? (12 points)\n",
        "\n",
        "Running the cell below will show the results of your best model and save your best model's predictions to a file named CORA_Node_batch_(0.3, 0.5, 1).csv'.\n",
        "\n",
        "As we have seen before you can view this file by clicking on the Folder icon on the left side pannel. When you submit your assignment, you will have to download this file and attach it to your submission."
      ]
    },
    {
      "cell_type": "code",
      "execution_count": 34,
      "metadata": {
        "colab": {
          "base_uri": "https://localhost:8080/"
        },
        "id": "booJ6DASTjO4",
        "outputId": "27f531bc-3d33-4f94-c1b7-d88bf4c1ffbe"
      },
      "outputs": [
        {
          "name": "stdout",
          "output_type": "stream",
          "text": [
            "Index fields: val_mask ignored.\n",
            "Index fields: train_mask ignored.\n",
            "Index fields: test_mask ignored.\n",
            "Sampled 659 nodes, 440 edges, 140 labeled nodes\n",
            "Epoch: 01, Loss: 2.0175, Train: 33.57%, Valid: 12.20% Test: 14.20%\n",
            "Sampled 673 nodes, 452 edges, 140 labeled nodes\n",
            "Epoch: 02, Loss: 1.4831, Train: 71.43%, Valid: 30.20% Test: 36.70%\n",
            "Sampled 656 nodes, 455 edges, 140 labeled nodes\n",
            "Epoch: 03, Loss: 1.0731, Train: 89.29%, Valid: 46.20% Test: 52.30%\n",
            "Sampled 665 nodes, 423 edges, 140 labeled nodes\n",
            "Epoch: 04, Loss: 0.7940, Train: 95.71%, Valid: 57.60% Test: 61.60%\n",
            "Sampled 646 nodes, 426 edges, 140 labeled nodes\n",
            "Epoch: 05, Loss: 0.5912, Train: 97.86%, Valid: 64.80% Test: 68.70%\n",
            "Sampled 663 nodes, 434 edges, 140 labeled nodes\n",
            "Epoch: 06, Loss: 0.3931, Train: 99.29%, Valid: 68.60% Test: 72.30%\n",
            "Sampled 663 nodes, 451 edges, 140 labeled nodes\n",
            "Epoch: 07, Loss: 0.2933, Train: 99.29%, Valid: 70.80% Test: 74.50%\n",
            "Sampled 635 nodes, 442 edges, 140 labeled nodes\n",
            "Epoch: 08, Loss: 0.2182, Train: 99.29%, Valid: 72.00% Test: 74.80%\n",
            "Sampled 676 nodes, 450 edges, 140 labeled nodes\n",
            "Epoch: 09, Loss: 0.1632, Train: 100.00%, Valid: 72.20% Test: 74.60%\n",
            "Sampled 674 nodes, 463 edges, 140 labeled nodes\n",
            "Epoch: 10, Loss: 0.0936, Train: 100.00%, Valid: 72.40% Test: 74.20%\n",
            "Sampled 691 nodes, 478 edges, 140 labeled nodes\n",
            "Epoch: 11, Loss: 0.0738, Train: 100.00%, Valid: 71.80% Test: 74.00%\n",
            "Sampled 663 nodes, 468 edges, 140 labeled nodes\n",
            "Epoch: 12, Loss: 0.0477, Train: 100.00%, Valid: 71.60% Test: 73.70%\n",
            "Sampled 660 nodes, 434 edges, 140 labeled nodes\n",
            "Epoch: 13, Loss: 0.0487, Train: 100.00%, Valid: 71.60% Test: 73.30%\n",
            "Sampled 668 nodes, 448 edges, 140 labeled nodes\n",
            "Epoch: 14, Loss: 0.0440, Train: 100.00%, Valid: 71.00% Test: 72.80%\n",
            "Sampled 704 nodes, 477 edges, 140 labeled nodes\n",
            "Epoch: 15, Loss: 0.0360, Train: 100.00%, Valid: 71.40% Test: 72.40%\n",
            "Sampled 671 nodes, 463 edges, 140 labeled nodes\n",
            "Epoch: 16, Loss: 0.0211, Train: 100.00%, Valid: 71.00% Test: 72.40%\n",
            "Sampled 687 nodes, 469 edges, 140 labeled nodes\n",
            "Epoch: 17, Loss: 0.0173, Train: 100.00%, Valid: 70.80% Test: 72.10%\n",
            "Sampled 631 nodes, 421 edges, 140 labeled nodes\n",
            "Epoch: 18, Loss: 0.0215, Train: 100.00%, Valid: 70.00% Test: 71.70%\n",
            "Sampled 679 nodes, 464 edges, 140 labeled nodes\n",
            "Epoch: 19, Loss: 0.0172, Train: 100.00%, Valid: 70.00% Test: 71.30%\n",
            "Sampled 658 nodes, 436 edges, 140 labeled nodes\n",
            "Epoch: 20, Loss: 0.0023, Train: 100.00%, Valid: 70.00% Test: 71.20%\n",
            "Sampled 673 nodes, 458 edges, 140 labeled nodes\n",
            "Epoch: 21, Loss: 0.0130, Train: 100.00%, Valid: 70.00% Test: 71.10%\n",
            "Sampled 670 nodes, 466 edges, 140 labeled nodes\n",
            "Epoch: 22, Loss: 0.0053, Train: 100.00%, Valid: 70.00% Test: 70.80%\n",
            "Sampled 672 nodes, 455 edges, 140 labeled nodes\n",
            "Epoch: 23, Loss: 0.0050, Train: 100.00%, Valid: 70.00% Test: 71.00%\n",
            "Sampled 653 nodes, 450 edges, 140 labeled nodes\n",
            "Epoch: 24, Loss: 0.0068, Train: 100.00%, Valid: 69.60% Test: 70.80%\n",
            "Sampled 654 nodes, 441 edges, 140 labeled nodes\n",
            "Epoch: 25, Loss: 0.0110, Train: 100.00%, Valid: 69.60% Test: 70.80%\n",
            "Sampled 665 nodes, 451 edges, 140 labeled nodes\n",
            "Epoch: 26, Loss: 0.0031, Train: 100.00%, Valid: 69.80% Test: 70.90%\n",
            "Sampled 668 nodes, 453 edges, 140 labeled nodes\n",
            "Epoch: 27, Loss: 0.0033, Train: 100.00%, Valid: 69.60% Test: 70.90%\n",
            "Sampled 630 nodes, 417 edges, 140 labeled nodes\n",
            "Epoch: 28, Loss: 0.0036, Train: 100.00%, Valid: 69.40% Test: 70.90%\n",
            "Sampled 666 nodes, 456 edges, 140 labeled nodes\n",
            "Epoch: 29, Loss: 0.0045, Train: 100.00%, Valid: 69.20% Test: 70.80%\n",
            "Sampled 656 nodes, 421 edges, 140 labeled nodes\n",
            "Epoch: 30, Loss: 0.0043, Train: 100.00%, Valid: 69.20% Test: 70.90%\n",
            "Sampled 683 nodes, 498 edges, 140 labeled nodes\n",
            "Epoch: 31, Loss: 0.0020, Train: 100.00%, Valid: 69.80% Test: 70.80%\n",
            "Sampled 673 nodes, 477 edges, 140 labeled nodes\n",
            "Epoch: 32, Loss: 0.0034, Train: 100.00%, Valid: 69.80% Test: 70.60%\n",
            "Sampled 668 nodes, 440 edges, 140 labeled nodes\n",
            "Epoch: 33, Loss: 0.0070, Train: 100.00%, Valid: 69.80% Test: 70.70%\n",
            "Sampled 642 nodes, 406 edges, 140 labeled nodes\n",
            "Epoch: 34, Loss: 0.0012, Train: 100.00%, Valid: 69.80% Test: 70.60%\n",
            "Sampled 658 nodes, 445 edges, 140 labeled nodes\n",
            "Epoch: 35, Loss: 0.0021, Train: 100.00%, Valid: 70.20% Test: 70.70%\n",
            "Sampled 662 nodes, 454 edges, 140 labeled nodes\n",
            "Epoch: 36, Loss: 0.0057, Train: 100.00%, Valid: 70.20% Test: 70.70%\n",
            "Sampled 704 nodes, 478 edges, 140 labeled nodes\n",
            "Epoch: 37, Loss: 0.0103, Train: 100.00%, Valid: 70.40% Test: 70.90%\n",
            "Sampled 640 nodes, 418 edges, 140 labeled nodes\n",
            "Epoch: 38, Loss: 0.0004, Train: 100.00%, Valid: 70.60% Test: 71.30%\n",
            "Sampled 660 nodes, 437 edges, 140 labeled nodes\n",
            "Epoch: 39, Loss: 0.0066, Train: 100.00%, Valid: 70.80% Test: 71.30%\n",
            "Sampled 665 nodes, 432 edges, 140 labeled nodes\n",
            "Epoch: 40, Loss: 0.0051, Train: 100.00%, Valid: 71.00% Test: 72.30%\n",
            "Sampled 680 nodes, 471 edges, 140 labeled nodes\n",
            "Epoch: 41, Loss: 0.0020, Train: 100.00%, Valid: 71.20% Test: 72.30%\n",
            "Sampled 657 nodes, 428 edges, 140 labeled nodes\n",
            "Epoch: 42, Loss: 0.0009, Train: 100.00%, Valid: 71.20% Test: 72.70%\n",
            "Sampled 647 nodes, 417 edges, 140 labeled nodes\n",
            "Epoch: 43, Loss: 0.0025, Train: 100.00%, Valid: 71.00% Test: 72.60%\n",
            "Sampled 650 nodes, 434 edges, 140 labeled nodes\n",
            "Epoch: 44, Loss: 0.0013, Train: 100.00%, Valid: 71.00% Test: 72.70%\n",
            "Sampled 646 nodes, 424 edges, 140 labeled nodes\n",
            "Epoch: 45, Loss: 0.0087, Train: 100.00%, Valid: 70.80% Test: 72.90%\n",
            "Sampled 646 nodes, 428 edges, 140 labeled nodes\n",
            "Epoch: 46, Loss: 0.0037, Train: 100.00%, Valid: 70.60% Test: 73.00%\n",
            "Sampled 653 nodes, 440 edges, 140 labeled nodes\n",
            "Epoch: 47, Loss: 0.0017, Train: 100.00%, Valid: 70.80% Test: 73.00%\n",
            "Sampled 690 nodes, 490 edges, 140 labeled nodes\n",
            "Epoch: 48, Loss: 0.0026, Train: 100.00%, Valid: 70.80% Test: 73.10%\n",
            "Sampled 669 nodes, 441 edges, 140 labeled nodes\n",
            "Epoch: 49, Loss: 0.0023, Train: 100.00%, Valid: 70.80% Test: 72.90%\n",
            "Sampled 667 nodes, 457 edges, 140 labeled nodes\n",
            "Epoch: 50, Loss: 0.0005, Train: 100.00%, Valid: 70.80% Test: 72.90%\n",
            "Saving Model Predictions for Model: batch (0.3,0.5,1)\n",
            "Best model: Train: 100.00%, Valid: 72.40% Test: 74.20%\n"
          ]
        }
      ],
      "source": [
        "if 'IS_GRADESCOPE_ENV' not in os.environ:\n",
        "  \n",
        "  set_seed()\n",
        "\n",
        "  # Change the ratio to 0.3\n",
        "  args['ratios'] = (0.3, 0.5, 1)\n",
        "\n",
        "  graphs_train, graphs_val, graphs_test = \\\n",
        "      GraphDataset.pyg_to_graphs(pyg_dataset, verbose=True, fixed_split=True)\n",
        "\n",
        "  graph_train = graphs_train[0]\n",
        "  graph_val = graphs_val[0]\n",
        "  graph_test = graphs_test[0]\n",
        "\n",
        "  model = GNN(graph_train.num_node_features, args['hidden_size'], graph_train.num_node_labels, args).to(args['device'])\n",
        "  \n",
        "  # Disable compile as this does not seem to work yet in PyTorch 2.0.1/PyG 2.3.1\n",
        "  # try:\n",
        "  #   model = torch_geometric.compile(model)\n",
        "  #   print(f\"GNN Model compiled\")\n",
        "  # except Exception as err:\n",
        "  #   print(f\"Model compile not supported: {err}\")\n",
        "\n",
        "  optimizer = torch.optim.Adam(model.parameters(), lr=args['lr'])\n",
        "  graphs = [graph_train, graph_val, graph_test]\n",
        "  batch_best_model, batch_accs_1 = train(graphs, graphs, args, model, optimizer)\n",
        "  train_acc, val_acc, test_acc = test([graph_train, graph_val, graph_test], batch_best_model, save_model_results=True, batch_type=\"batch\", title=\"(0.3,0.5,1)\")\n",
        "  print('Best model:',\n",
        "        f'Train: {100 * train_acc:.2f}%, '\n",
        "        f'Valid: {100 * val_acc:.2f}% '\n",
        "        f'Test: {100 * test_acc:.2f}%')"
      ]
    },
    {
      "cell_type": "markdown",
      "metadata": {
        "id": "EePAvNlGUM2K"
      },
      "source": [
        "## Visualization"
      ]
    },
    {
      "cell_type": "code",
      "execution_count": 35,
      "metadata": {
        "colab": {
          "base_uri": "https://localhost:8080/",
          "height": 641
        },
        "id": "7etNAkXAT55d",
        "outputId": "de3e56a1-08f2-41d4-bc11-1c454fc2f85c"
      },
      "outputs": [
        {
          "data": {
            "image/png": "[encoded data removed]",
            "text/plain": [
              "<Figure size 900x700 with 1 Axes>"
            ]
          },
          "metadata": {},
          "output_type": "display_data"
        }
      ],
      "source": [
        "import numpy as np\n",
        "from matplotlib import pyplot as plt\n",
        "\n",
        "if 'IS_GRADESCOPE_ENV' not in os.environ:\n",
        "  batch_results = np.array(batch_accs)\n",
        "  batch_results_1 = np.array(batch_accs_1)\n",
        "  all_results = np.array(all_accs)\n",
        "\n",
        "  x = np.arange(1, 51)\n",
        "\n",
        "  plt.figure(figsize=(9, 7))\n",
        "\n",
        "  plt.plot(x, batch_results[:, 0], label=\"Batch 0.8 Train\")\n",
        "  plt.plot(x, batch_results[:, 1], label=\"Batch 0.8 Validation\")\n",
        "  plt.plot(x, batch_results[:, 2], label=\"Batch 0.8 Test\")\n",
        "  plt.plot(x, batch_results_1[:, 0], label=\"Batch 0.3 Train\")\n",
        "  plt.plot(x, batch_results_1[:, 1], label=\"Batch 0.3 Validation\")\n",
        "  plt.plot(x, batch_results_1[:, 2], label=\"Batch 0.3 Test\")\n",
        "  plt.plot(x, all_results[:, 0], label=\"All Train\")\n",
        "  plt.plot(x, all_results[:, 1], label=\"All Validation\")\n",
        "  plt.plot(x, all_results[:, 2], label=\"All Test\")\n",
        "  plt.title('Model Accuracy')\n",
        "  plt.ylabel('Accuracy')\n",
        "  plt.xlabel('Epoch')\n",
        "  plt.legend()\n",
        "  plt.show()"
      ]
    },
    {
      "cell_type": "markdown",
      "metadata": {
        "id": "bkA7-0groq7q"
      },
      "source": [
        "**NOTE:** We always evaluate accuracy in full-batch mode. Namely, only during training do we use neighborhood sub-sampling. We do this for a couple reason: 1) fairness of comparison, 2) we worry most about computational cost during training as compared to evaluation, and 3) during the inference phase we want to leverage as much neighborhood information as possible!  "
      ]
    },
    {
      "cell_type": "markdown",
      "metadata": {
        "id": "Iee0U8KGURc8"
      },
      "source": [
        "# 2) Cluster Sampling\n",
        "\n",
        "As discussed in Module 7.2, we can also use subgraph (cluster) sampling to scale up GNN. Specifically, we will explore the methods proposed in Cluster-GCN ([Chiang et al. (2019)](https://arxiv.org/abs/1905.07953)), where we break our graph into smaller subgraphs to avoid the computational cost of training on the entire graph at once.\n",
        "\n",
        "In this final section, we will implement a vanilla Cluster-GCN and experiment with 3 different community partition algorithms.\n",
        "\n",
        "**NOTE:** the code in this section requires that you have run the `Setup`, `GNN Model` and `Training and Testing` cells of section 2."
      ]
    },
    {
      "cell_type": "markdown",
      "metadata": {
        "id": "_BXjP79gUYir"
      },
      "source": [
        "## Setup"
      ]
    },
    {
      "cell_type": "code",
      "execution_count": 40,
      "metadata": {
        "id": "UGQ_VKp8UOEm"
      },
      "outputs": [],
      "source": [
        "# !pip install python-louvain\n",
        "import copy\n",
        "import torch\n",
        "import random\n",
        "import numpy as np\n",
        "import networkx as nx\n",
        "import torch.nn as nn\n",
        "import pandas as pd\n",
        "import torch.nn.functional as F\n",
        "import community.community_louvain as community_louvain\n",
        "\n",
        "from torch_geometric.nn import SAGEConv\n",
        "from torch.utils.data import DataLoader\n",
        "from torch_geometric.datasets import Planetoid\n",
        "from torch.nn import Sequential, Linear, ReLU\n",
        "from deepsnap.dataset import GraphDataset\n",
        "from deepsnap.graph import Graph\n",
        "\n",
        "if 'IS_GRADESCOPE_ENV' not in os.environ:   \n",
        "  pyg_dataset = Planetoid('./tmp', \"Cora\")"
      ]
    },
    {
      "cell_type": "code",
      "execution_count": 41,
      "metadata": {
        "id": "bzMatyCSUaB6"
      },
      "outputs": [],
      "source": [
        "args = {\n",
        "    'device': torch.device('cuda' if torch.cuda.is_available() else 'cpu'),\n",
        "    'dropout': 0.5,\n",
        "    'num_layers': 2,\n",
        "    'hidden_size': 64,\n",
        "    'lr': 0.005,\n",
        "    'epochs': 150,\n",
        "}"
      ]
    },
    {
      "cell_type": "markdown",
      "metadata": {
        "id": "ekV-sokSUeLc"
      },
      "source": [
        "## Partitioning the Graph into Clusters\n",
        "\n",
        "We will experiment with three community detection / partition algorithms to partition our graph into different clusters:\n",
        "* [Kernighan–Lin algorithm (bisection)](https://networkx.org/documentation/stable/reference/algorithms/generated/networkx.algorithms.community.kernighan_lin.kernighan_lin_bisection.html)\n",
        "* [Clauset-Newman-Moore greedy modularity maximization](https://networkx.org/documentation/stable/reference/algorithms/generated/networkx.algorithms.community.modularity_max.greedy_modularity_communities.html#networkx.algorithms.community.modularity_max.greedy_modularity_communities)\n",
        "* [Louvain algorithm](https://python-louvain.readthedocs.io/en/latest/api.html)\n",
        "\n",
        "\n",
        "As a preprocessing step, we partition our graph into a list of seperate subgraphs using one of the three communitiy detection algorithms above. Then during training we iteratively train our vanilla Cluster-GNN model on a randomly selected subgraph, rather than on over the entire graph at once. To make training more stable, we discard any communities that have less than 10 nodes.\n",
        "\n",
        "Let's begin by defining the three partition algorithms."
      ]
    },
    {
      "cell_type": "code",
      "execution_count": 43,
      "metadata": {
        "id": "N8XeT005UcKh"
      },
      "outputs": [],
      "source": [
        "def partition(G, method=\"louvain\"):\n",
        "    # TODO: Implement a function that takes a Networkx graph G and\n",
        "    # partitions the graph into communities using the specified graph\n",
        "    # partition algorithm.\n",
        "    # \n",
        "    # Return: A list of sets of nodes, one for each community!\n",
        "\n",
        "    communities = None\n",
        "\n",
        "    if method == \"louvain\":\n",
        "        ############# Your code here #############\n",
        "        ## (~9 line of code)\n",
        "        ## Note:\n",
        "        ## 1. Find a community mapping corresponding to the partition of the \n",
        "        ##    graph nodes which maximizes the modularity for the Louvain algorithm. \n",
        "        ##    Set your resolution to 10.\n",
        "        ## 2. Create a mapping of communities to a set of member nodes. \n",
        "        ## 3. Extract the node sets from each community and return \n",
        "        ##    as a list of sets. \n",
        "        ##    Hint: Perhaps a dictionary structure can assist.\n",
        "        ## 4. SET random_state = 8 \n",
        "        # pass\n",
        "        ##########################################\n",
        "        community_mapping = community_louvain.best_partition(G, resolution=10, random_state=8)\n",
        "        \n",
        "        # Create dictionary to store community members\n",
        "        community_dict = {}\n",
        "        \n",
        "        # Group nodes by their community\n",
        "        for node, community_id in community_mapping.items():\n",
        "            if community_id not in community_dict:\n",
        "                community_dict[community_id] = set()\n",
        "            community_dict[community_id].add(node)\n",
        "        \n",
        "        # Convert dictionary values to list of sets\n",
        "        communities = list(community_dict.values())\n",
        "\n",
        "        \n",
        "    elif method == \"bisection\":\n",
        "        ############# Your code here #############\n",
        "        ## (~1 line of code)\n",
        "        ## Note:\n",
        "        ## 1. The Kernigan-Lin algorithm ensures that nodes are partitioned into two \n",
        "        ##    primary communities.  \n",
        "        ## 2. Ensure that the resultant data structure is consistent with expected\n",
        "        ##    output.\n",
        "        ## 3. SET seed = 8\n",
        "        # pass\n",
        "        ##########################################\n",
        "        communities = nx.algorithms.community.kernighan_lin_bisection(G, seed=8)\n",
        "    elif method == \"greedy\":\n",
        "        ############# Your code here #############\n",
        "        ## (~1 line of code)\n",
        "        ## Note:\n",
        "        ## 1. Clauset-Newman-Moore greedy modularity maximization joins pair \n",
        "        ##    of communities nodes that most increases modularity until no such \n",
        "        ##    pair exists.\n",
        "        # pass\n",
        "        ##########################################\n",
        "        communities = nx.algorithms.community.modularity_max.greedy_modularity_communities(G)\n",
        "    return communities \n",
        "\n",
        "\n",
        "def preprocess(G, node_label_index, method=\"louvain\"):\n",
        "    graphs = []\n",
        "    labeled_nodes = set(node_label_index.tolist())\n",
        "\n",
        "    communities = partition(G, method)\n",
        "\n",
        "    for community in communities:\n",
        "        nodes = set(community)\n",
        "        subgraph = G.subgraph(nodes)\n",
        "        # Make sure each subgraph has more than 10 nodes\n",
        "        if subgraph.number_of_nodes() > 10:\n",
        "            node_mapping = {node : i for i, node in enumerate(subgraph.nodes())}\n",
        "            subgraph = nx.relabel_nodes(subgraph, node_mapping)\n",
        "            # Get the id of the training set labeled node in the new graph\n",
        "            train_label_index = []\n",
        "            for node in labeled_nodes:\n",
        "                if node in node_mapping:\n",
        "                    # Append relabeled labeled node index\n",
        "                    train_label_index.append(node_mapping[node])\n",
        "\n",
        "            # Make sure the subgraph contains at least one training set labeled node\n",
        "            if len(train_label_index) > 0:\n",
        "                dg = Graph(subgraph)\n",
        "                # Update node_label_index\n",
        "                dg.node_label_index = torch.tensor(train_label_index, dtype=torch.long)\n",
        "                graphs.append(dg)\n",
        "    return graphs"
      ]
    },
    {
      "cell_type": "markdown",
      "metadata": {
        "id": "YKrUdkhC1-A3"
      },
      "source": [
        "## Experimenting with different graph partition algorithms\n",
        "\n",
        "We will now experiment with the three graph partition algorithms, using the resulting graph clusters to train our vanilla Cluster-GNN. We will first observe how each parition algorithm partitions the original graph. Then we will compare the perfomance of our vanilla Cluster-GNN trained using the different graph clustering techniques. Lastly, we will compare against training a vanilla GCN over the entire graph (refered to as Full-Batch training).  "
      ]
    },
    {
      "cell_type": "markdown",
      "metadata": {
        "id": "7CYEamCAU-TJ"
      },
      "source": [
        "## **Question 2.1a:** How does the Louvain algorithm partition our graph? (3 points)\n"
      ]
    },
    {
      "cell_type": "code",
      "execution_count": 44,
      "metadata": {
        "colab": {
          "base_uri": "https://localhost:8080/"
        },
        "id": "-TrC6ybWU7eO",
        "outputId": "27c74405-00b5-4fc5-d70e-a31aaf122985"
      },
      "outputs": [
        {
          "name": "stdout",
          "output_type": "stream",
          "text": [
            "Index fields: val_mask ignored.\n",
            "Index fields: train_mask ignored.\n",
            "Index fields: test_mask ignored.\n",
            "\n",
            "Partitioning the graph in to 77 communities\n",
            "Each community has 21 nodes in average\n",
            "Each community has 30 edges in average\n"
          ]
        }
      ],
      "source": [
        "if 'IS_GRADESCOPE_ENV' not in os.environ:\n",
        "  \n",
        "  set_seed()\n",
        "\n",
        "  graphs_train, graphs_val, graphs_test = \\\n",
        "      GraphDataset.pyg_to_graphs(pyg_dataset, verbose=True, fixed_split=True)\n",
        "\n",
        "  graph_train = graphs_train[0]\n",
        "  graph_val = graphs_val[0]\n",
        "  graph_test = graphs_test[0]\n",
        "  graphs = preprocess(graph_train.G, graph_train.node_label_index, method=\"louvain\")\n",
        "  print()\n",
        "  print(\"Partitioning the graph in to {} communities\".format(len(graphs)))\n",
        "  avg_num_nodes = 0\n",
        "  avg_num_edges = 0\n",
        "  for graph in graphs:\n",
        "      avg_num_nodes += graph.num_nodes\n",
        "      avg_num_edges += graph.num_edges\n",
        "  avg_num_nodes = int(avg_num_nodes / len(graphs))\n",
        "  avg_num_edges = int(avg_num_edges / len(graphs))\n",
        "  print(\"Each community has {} nodes in average\".format(avg_num_nodes))\n",
        "  print(\"Each community has {} edges in average\".format(avg_num_edges))"
      ]
    },
    {
      "cell_type": "markdown",
      "metadata": {
        "id": "O03uXIuGVIgJ"
      },
      "source": [
        "## **Question 2.1b:** Using Louvain clustering, what is the maximum test accuracy obtained by your vanilla Cluster-GCN? (6 points)\n"
      ]
    },
    {
      "cell_type": "code",
      "execution_count": 45,
      "metadata": {
        "colab": {
          "base_uri": "https://localhost:8080/"
        },
        "id": "iSbGf5ADVFQq",
        "outputId": "aa83b270-1976-48af-b883-3fb412f63f8f"
      },
      "outputs": [
        {
          "name": "stdout",
          "output_type": "stream",
          "text": [
            "Epoch: 01, Loss: 2.4903, Train: 13.57%, Valid: 8.40% Test: 9.30%\n",
            "Epoch: 02, Loss: 2.2338, Train: 19.29%, Valid: 9.40% Test: 11.10%\n",
            "Epoch: 03, Loss: 2.7877, Train: 19.29%, Valid: 12.00% Test: 13.00%\n",
            "Epoch: 04, Loss: 1.8543, Train: 17.86%, Valid: 12.40% Test: 13.40%\n",
            "Epoch: 05, Loss: 1.9836, Train: 17.14%, Valid: 12.60% Test: 14.10%\n",
            "Epoch: 06, Loss: 2.7103, Train: 16.43%, Valid: 13.60% Test: 14.80%\n",
            "Epoch: 07, Loss: 2.7845, Train: 17.14%, Valid: 13.60% Test: 15.10%\n",
            "Epoch: 08, Loss: 2.0478, Train: 17.14%, Valid: 13.00% Test: 14.60%\n",
            "Epoch: 09, Loss: 2.7092, Train: 20.00%, Valid: 13.40% Test: 15.20%\n",
            "Epoch: 10, Loss: 3.5842, Train: 20.71%, Valid: 13.20% Test: 14.70%\n",
            "Epoch: 11, Loss: 1.5408, Train: 22.14%, Valid: 13.20% Test: 14.10%\n",
            "Epoch: 12, Loss: 1.4607, Train: 22.14%, Valid: 11.00% Test: 12.70%\n",
            "Epoch: 13, Loss: 1.7190, Train: 23.57%, Valid: 10.40% Test: 11.20%\n",
            "Epoch: 14, Loss: 2.7859, Train: 25.71%, Valid: 10.00% Test: 10.60%\n",
            "Epoch: 15, Loss: 1.6717, Train: 24.29%, Valid: 10.60% Test: 11.30%\n",
            "Epoch: 16, Loss: 2.5344, Train: 25.00%, Valid: 11.00% Test: 10.90%\n",
            "Epoch: 17, Loss: 1.4751, Train: 24.29%, Valid: 10.20% Test: 11.60%\n",
            "Epoch: 18, Loss: 2.4338, Train: 23.57%, Valid: 12.00% Test: 11.70%\n",
            "Epoch: 19, Loss: 3.5893, Train: 25.00%, Valid: 13.40% Test: 12.00%\n",
            "Epoch: 20, Loss: 0.4647, Train: 25.00%, Valid: 15.20% Test: 12.50%\n",
            "Epoch: 21, Loss: 1.5192, Train: 27.86%, Valid: 15.00% Test: 12.80%\n",
            "Epoch: 22, Loss: 0.0261, Train: 26.43%, Valid: 14.40% Test: 15.60%\n",
            "Epoch: 23, Loss: 2.3471, Train: 28.57%, Valid: 15.80% Test: 15.20%\n",
            "Epoch: 24, Loss: 3.2420, Train: 28.57%, Valid: 14.80% Test: 14.90%\n",
            "Epoch: 25, Loss: 0.6920, Train: 27.86%, Valid: 13.60% Test: 14.10%\n",
            "Epoch: 26, Loss: 0.9183, Train: 27.86%, Valid: 13.20% Test: 13.60%\n",
            "Epoch: 27, Loss: 2.9161, Train: 27.14%, Valid: 13.60% Test: 13.90%\n",
            "Epoch: 28, Loss: 0.4135, Train: 25.71%, Valid: 12.40% Test: 12.70%\n",
            "Epoch: 29, Loss: 0.9065, Train: 24.29%, Valid: 11.60% Test: 13.40%\n",
            "Epoch: 30, Loss: 1.6284, Train: 25.00%, Valid: 11.20% Test: 11.70%\n",
            "Epoch: 31, Loss: 3.1495, Train: 26.43%, Valid: 11.20% Test: 11.00%\n",
            "Epoch: 32, Loss: 0.9843, Train: 25.71%, Valid: 11.00% Test: 10.40%\n",
            "Epoch: 33, Loss: 1.7216, Train: 24.29%, Valid: 11.20% Test: 10.30%\n",
            "Epoch: 34, Loss: 2.3039, Train: 22.14%, Valid: 11.20% Test: 10.30%\n",
            "Epoch: 35, Loss: 2.0474, Train: 23.57%, Valid: 11.00% Test: 9.90%\n",
            "Epoch: 36, Loss: 2.1943, Train: 22.14%, Valid: 10.60% Test: 9.90%\n",
            "Epoch: 37, Loss: 3.9816, Train: 22.14%, Valid: 10.80% Test: 9.80%\n",
            "Epoch: 38, Loss: 0.5282, Train: 20.71%, Valid: 10.20% Test: 9.40%\n",
            "Epoch: 39, Loss: 2.3653, Train: 20.71%, Valid: 10.20% Test: 8.80%\n",
            "Epoch: 40, Loss: 0.8498, Train: 21.43%, Valid: 10.20% Test: 9.70%\n",
            "Epoch: 41, Loss: 4.2534, Train: 22.86%, Valid: 10.60% Test: 9.60%\n",
            "Epoch: 42, Loss: 2.3063, Train: 23.57%, Valid: 11.80% Test: 10.20%\n",
            "Epoch: 43, Loss: 2.3105, Train: 25.00%, Valid: 12.40% Test: 10.30%\n",
            "Epoch: 44, Loss: 3.3858, Train: 27.14%, Valid: 12.20% Test: 10.60%\n",
            "Epoch: 45, Loss: 1.2166, Train: 27.86%, Valid: 12.80% Test: 11.00%\n",
            "Epoch: 46, Loss: 1.3150, Train: 30.71%, Valid: 13.00% Test: 11.60%\n",
            "Epoch: 47, Loss: 3.5115, Train: 32.86%, Valid: 14.80% Test: 11.80%\n",
            "Epoch: 48, Loss: 0.1813, Train: 35.00%, Valid: 15.20% Test: 12.90%\n",
            "Epoch: 49, Loss: 0.6265, Train: 33.57%, Valid: 15.00% Test: 12.30%\n",
            "Epoch: 50, Loss: 0.7006, Train: 33.57%, Valid: 14.80% Test: 11.90%\n",
            "Epoch: 51, Loss: 0.2195, Train: 32.86%, Valid: 14.20% Test: 11.90%\n",
            "Epoch: 52, Loss: 0.4879, Train: 33.57%, Valid: 13.80% Test: 12.20%\n",
            "Epoch: 53, Loss: 1.1249, Train: 34.29%, Valid: 13.60% Test: 12.70%\n",
            "Epoch: 54, Loss: 0.7942, Train: 35.71%, Valid: 13.80% Test: 12.00%\n",
            "Epoch: 55, Loss: 0.0094, Train: 35.71%, Valid: 13.40% Test: 11.70%\n",
            "Epoch: 56, Loss: 0.8418, Train: 37.86%, Valid: 11.60% Test: 10.30%\n",
            "Epoch: 57, Loss: 2.1136, Train: 37.86%, Valid: 10.60% Test: 11.00%\n",
            "Epoch: 58, Loss: 0.3909, Train: 37.14%, Valid: 11.40% Test: 11.30%\n",
            "Epoch: 59, Loss: 3.1100, Train: 36.43%, Valid: 12.00% Test: 11.20%\n",
            "Epoch: 60, Loss: 3.2115, Train: 37.86%, Valid: 10.80% Test: 11.20%\n",
            "Epoch: 61, Loss: 0.0898, Train: 41.43%, Valid: 11.20% Test: 10.00%\n",
            "Epoch: 62, Loss: 0.7547, Train: 38.57%, Valid: 10.40% Test: 10.00%\n",
            "Epoch: 63, Loss: 2.7283, Train: 37.14%, Valid: 10.20% Test: 10.20%\n",
            "Epoch: 64, Loss: 0.4827, Train: 35.00%, Valid: 10.00% Test: 10.30%\n",
            "Epoch: 65, Loss: 1.3703, Train: 35.71%, Valid: 11.00% Test: 11.10%\n",
            "Epoch: 66, Loss: 0.2194, Train: 36.43%, Valid: 10.80% Test: 11.00%\n",
            "Epoch: 67, Loss: 3.0541, Train: 34.29%, Valid: 10.80% Test: 11.70%\n",
            "Epoch: 68, Loss: 1.3439, Train: 35.71%, Valid: 11.20% Test: 12.40%\n",
            "Epoch: 69, Loss: 1.3953, Train: 36.43%, Valid: 11.80% Test: 13.10%\n",
            "Epoch: 70, Loss: 2.8336, Train: 36.43%, Valid: 12.40% Test: 14.40%\n",
            "Epoch: 71, Loss: 1.5444, Train: 38.57%, Valid: 13.20% Test: 15.30%\n",
            "Epoch: 72, Loss: 0.5573, Train: 39.29%, Valid: 14.20% Test: 15.40%\n",
            "Epoch: 73, Loss: 1.0847, Train: 40.00%, Valid: 15.20% Test: 16.90%\n",
            "Epoch: 74, Loss: 0.1657, Train: 42.14%, Valid: 16.40% Test: 17.60%\n",
            "Epoch: 75, Loss: 2.1355, Train: 42.86%, Valid: 16.80% Test: 17.70%\n",
            "Epoch: 76, Loss: 0.8131, Train: 43.57%, Valid: 17.80% Test: 18.50%\n",
            "Epoch: 77, Loss: 2.0526, Train: 44.29%, Valid: 17.40% Test: 18.70%\n",
            "Epoch: 78, Loss: 0.8554, Train: 44.29%, Valid: 18.20% Test: 20.10%\n",
            "Epoch: 79, Loss: 3.7647, Train: 45.00%, Valid: 18.80% Test: 20.60%\n",
            "Epoch: 80, Loss: 0.7331, Train: 44.29%, Valid: 20.20% Test: 22.70%\n",
            "Epoch: 81, Loss: 3.3986, Train: 45.00%, Valid: 22.00% Test: 22.90%\n",
            "Epoch: 82, Loss: 1.7590, Train: 45.71%, Valid: 23.60% Test: 24.30%\n",
            "Epoch: 83, Loss: 0.3699, Train: 47.86%, Valid: 23.60% Test: 24.80%\n",
            "Epoch: 84, Loss: 1.0502, Train: 45.71%, Valid: 23.00% Test: 25.20%\n",
            "Epoch: 85, Loss: 0.1765, Train: 45.00%, Valid: 23.60% Test: 25.60%\n",
            "Epoch: 86, Loss: 0.4552, Train: 48.57%, Valid: 23.60% Test: 25.50%\n",
            "Epoch: 87, Loss: 0.3846, Train: 48.57%, Valid: 24.00% Test: 25.50%\n",
            "Epoch: 88, Loss: 1.1402, Train: 50.00%, Valid: 23.20% Test: 25.00%\n",
            "Epoch: 89, Loss: 0.3162, Train: 49.29%, Valid: 22.80% Test: 23.90%\n",
            "Epoch: 90, Loss: 0.2267, Train: 48.57%, Valid: 23.20% Test: 24.60%\n",
            "Epoch: 91, Loss: 0.5529, Train: 48.57%, Valid: 23.60% Test: 23.40%\n",
            "Epoch: 92, Loss: 0.2605, Train: 49.29%, Valid: 22.80% Test: 23.10%\n",
            "Epoch: 93, Loss: 1.0911, Train: 47.86%, Valid: 22.20% Test: 21.60%\n",
            "Epoch: 94, Loss: 2.2752, Train: 49.29%, Valid: 21.60% Test: 20.70%\n",
            "Epoch: 95, Loss: 3.8980, Train: 47.14%, Valid: 20.80% Test: 19.80%\n",
            "Epoch: 96, Loss: 0.7267, Train: 45.71%, Valid: 20.40% Test: 20.40%\n",
            "Epoch: 97, Loss: 0.6038, Train: 45.71%, Valid: 18.80% Test: 18.70%\n",
            "Epoch: 98, Loss: 4.2885, Train: 45.00%, Valid: 18.40% Test: 17.20%\n",
            "Epoch: 99, Loss: 3.6510, Train: 45.71%, Valid: 17.80% Test: 17.00%\n",
            "Epoch: 100, Loss: 2.4456, Train: 47.14%, Valid: 17.00% Test: 17.20%\n",
            "Epoch: 101, Loss: 1.9493, Train: 47.14%, Valid: 16.40% Test: 17.50%\n",
            "Epoch: 102, Loss: 1.6540, Train: 47.86%, Valid: 16.60% Test: 17.80%\n",
            "Epoch: 103, Loss: 0.3105, Train: 50.71%, Valid: 16.40% Test: 17.70%\n",
            "Epoch: 104, Loss: 0.0040, Train: 51.43%, Valid: 16.60% Test: 17.80%\n",
            "Epoch: 105, Loss: 1.0354, Train: 53.57%, Valid: 18.40% Test: 18.70%\n",
            "Epoch: 106, Loss: 0.3526, Train: 54.29%, Valid: 18.80% Test: 18.60%\n",
            "Epoch: 107, Loss: 0.0187, Train: 55.00%, Valid: 18.80% Test: 18.60%\n",
            "Epoch: 108, Loss: 3.0132, Train: 56.43%, Valid: 19.00% Test: 18.50%\n",
            "Epoch: 109, Loss: 0.1147, Train: 55.71%, Valid: 18.20% Test: 18.40%\n",
            "Epoch: 110, Loss: 0.1006, Train: 56.43%, Valid: 18.00% Test: 18.20%\n",
            "Epoch: 111, Loss: 0.0003, Train: 54.29%, Valid: 17.80% Test: 17.40%\n",
            "Epoch: 112, Loss: 2.2612, Train: 55.71%, Valid: 18.20% Test: 17.40%\n",
            "Epoch: 113, Loss: 0.2820, Train: 55.71%, Valid: 18.60% Test: 18.50%\n",
            "Epoch: 114, Loss: 0.2535, Train: 57.86%, Valid: 19.20% Test: 18.90%\n",
            "Epoch: 115, Loss: 1.3442, Train: 58.57%, Valid: 17.60% Test: 20.00%\n",
            "Epoch: 116, Loss: 2.0851, Train: 60.71%, Valid: 17.00% Test: 19.80%\n",
            "Epoch: 117, Loss: 0.3863, Train: 62.14%, Valid: 17.80% Test: 20.90%\n",
            "Epoch: 118, Loss: 0.5415, Train: 63.57%, Valid: 16.40% Test: 19.30%\n",
            "Epoch: 119, Loss: 0.3424, Train: 64.29%, Valid: 16.80% Test: 19.60%\n",
            "Epoch: 120, Loss: 0.7610, Train: 65.00%, Valid: 16.20% Test: 18.50%\n",
            "Epoch: 121, Loss: 0.7308, Train: 62.14%, Valid: 17.00% Test: 19.40%\n",
            "Epoch: 122, Loss: 2.2451, Train: 63.57%, Valid: 17.40% Test: 20.20%\n",
            "Epoch: 123, Loss: 0.5418, Train: 63.57%, Valid: 18.60% Test: 20.50%\n",
            "Epoch: 124, Loss: 0.7000, Train: 63.57%, Valid: 18.60% Test: 19.90%\n",
            "Epoch: 125, Loss: 1.4421, Train: 65.00%, Valid: 18.20% Test: 19.50%\n",
            "Epoch: 126, Loss: 0.1472, Train: 65.00%, Valid: 17.60% Test: 19.80%\n",
            "Epoch: 127, Loss: 0.0944, Train: 64.29%, Valid: 18.20% Test: 19.60%\n",
            "Epoch: 128, Loss: 2.2953, Train: 64.29%, Valid: 18.40% Test: 19.40%\n",
            "Epoch: 129, Loss: 2.9974, Train: 65.71%, Valid: 19.20% Test: 20.10%\n",
            "Epoch: 130, Loss: 0.1996, Train: 66.43%, Valid: 19.40% Test: 21.50%\n",
            "Epoch: 131, Loss: 0.1289, Train: 66.43%, Valid: 19.80% Test: 20.60%\n",
            "Epoch: 132, Loss: 0.1555, Train: 63.57%, Valid: 20.40% Test: 21.50%\n",
            "Epoch: 133, Loss: 0.7077, Train: 62.14%, Valid: 20.20% Test: 20.80%\n",
            "Epoch: 134, Loss: 0.0041, Train: 62.14%, Valid: 21.60% Test: 21.80%\n",
            "Epoch: 135, Loss: 0.0044, Train: 63.57%, Valid: 22.20% Test: 21.80%\n",
            "Epoch: 136, Loss: 2.6991, Train: 64.29%, Valid: 22.40% Test: 21.80%\n",
            "Epoch: 137, Loss: 2.7879, Train: 64.29%, Valid: 22.20% Test: 20.50%\n",
            "Epoch: 138, Loss: 0.0001, Train: 63.57%, Valid: 21.00% Test: 19.60%\n",
            "Epoch: 139, Loss: 0.1099, Train: 64.29%, Valid: 21.00% Test: 18.30%\n",
            "Epoch: 140, Loss: 0.6351, Train: 62.14%, Valid: 21.40% Test: 18.90%\n",
            "Epoch: 141, Loss: 0.0018, Train: 61.43%, Valid: 21.40% Test: 18.10%\n",
            "Epoch: 142, Loss: 0.9781, Train: 61.43%, Valid: 21.60% Test: 18.40%\n",
            "Epoch: 143, Loss: 0.6622, Train: 62.14%, Valid: 22.00% Test: 18.90%\n",
            "Epoch: 144, Loss: 0.3505, Train: 61.43%, Valid: 22.00% Test: 18.90%\n",
            "Epoch: 145, Loss: 2.7489, Train: 61.43%, Valid: 22.40% Test: 19.10%\n",
            "Epoch: 146, Loss: 2.0821, Train: 60.71%, Valid: 20.40% Test: 18.80%\n",
            "Epoch: 147, Loss: 0.2694, Train: 61.43%, Valid: 19.80% Test: 18.50%\n",
            "Epoch: 148, Loss: 0.1946, Train: 61.43%, Valid: 20.00% Test: 18.30%\n",
            "Epoch: 149, Loss: 0.5920, Train: 60.71%, Valid: 19.40% Test: 18.80%\n",
            "Epoch: 150, Loss: 0.0280, Train: 60.71%, Valid: 20.00% Test: 18.30%\n",
            "Saving Model Predictions for Model: cluster louvain\n",
            "Best model: Train: 48.57%, Valid: 24.00% Test: 25.50%\n"
          ]
        }
      ],
      "source": [
        "if 'IS_GRADESCOPE_ENV' not in os.environ:\n",
        "  \n",
        "  set_seed()\n",
        "  \n",
        "  model = GNN(graph_train.num_node_features, args['hidden_size'], graph_train.num_node_labels, args).to(args['device'])\n",
        "\n",
        "  # Disable compile as this does not seem to work yet in PyTorch 2.0.1/PyG 2.3.1\n",
        "  # try:\n",
        "  #   model = torch_geometric.compile(model)\n",
        "  #   print(f\"GNN Model compiled\")\n",
        "  # except Exception as err:\n",
        "  #   print(f\"Model compile not supported: {err}\")\n",
        "\n",
        "  optimizer = torch.optim.Adam(model.parameters(), lr=args['lr'])\n",
        "  louvain_best_model, louvain_accs = train(graphs, [graph_train, graph_val, graph_test], args, model, optimizer, mode=\"community\")\n",
        "  train_acc, val_acc, test_acc = test([graph_train, graph_val, graph_test], louvain_best_model, save_model_results=True, batch_type=\"cluster\", title=\"louvain\")\n",
        "  print('Best model:',\n",
        "        f'Train: {100 * train_acc:.2f}%, '\n",
        "        f'Valid: {100 * val_acc:.2f}% '\n",
        "        f'Test: {100 * test_acc:.2f}%')"
      ]
    },
    {
      "cell_type": "markdown",
      "metadata": {
        "id": "6CvTf0ANVO9U"
      },
      "source": [
        "## **Question 2.2a:** How does the Bisection algorithm partition our graph? (3 points)"
      ]
    },
    {
      "cell_type": "code",
      "execution_count": 46,
      "metadata": {
        "colab": {
          "base_uri": "https://localhost:8080/"
        },
        "id": "HkV0zlhgVJ7u",
        "outputId": "1e59736a-a9b3-49e3-e2a2-e87592a486d6"
      },
      "outputs": [
        {
          "name": "stdout",
          "output_type": "stream",
          "text": [
            "Index fields: val_mask ignored.\n",
            "Index fields: train_mask ignored.\n",
            "Index fields: test_mask ignored.\n",
            "Partition the graph in to 2 communities\n",
            "Each community has 1354 nodes in average\n",
            "Each community has 2397 edges in average\n"
          ]
        }
      ],
      "source": [
        "if 'IS_GRADESCOPE_ENV' not in os.environ:\n",
        "  \n",
        "  set_seed()\n",
        "\n",
        "  graphs_train, graphs_val, graphs_test = \\\n",
        "      GraphDataset.pyg_to_graphs(pyg_dataset, verbose=True, fixed_split=True)\n",
        "\n",
        "  graph_train = graphs_train[0]\n",
        "  graph_val = graphs_val[0]\n",
        "  graph_test = graphs_test[0]\n",
        "  graphs = preprocess(graph_train.G, graph_train.node_label_index, method=\"bisection\")\n",
        "  print(\"Partition the graph in to {} communities\".format(len(graphs)))\n",
        "  avg_num_nodes = 0\n",
        "  avg_num_edges = 0\n",
        "  for graph in graphs:\n",
        "      avg_num_nodes += graph.num_nodes\n",
        "      avg_num_edges += graph.num_edges\n",
        "  avg_num_nodes = int(avg_num_nodes / len(graphs))\n",
        "  avg_num_edges = int(avg_num_edges / len(graphs))\n",
        "  print(\"Each community has {} nodes in average\".format(avg_num_nodes))\n",
        "  print(\"Each community has {} edges in average\".format(avg_num_edges))"
      ]
    },
    {
      "cell_type": "markdown",
      "metadata": {
        "id": "IqMCvP8wVVms"
      },
      "source": [
        "## **Question 2.2b:** Using the Bisection algorithm to partition the graph, what is the maximum test accuracy obtained by your vanilla Cluster-GCN? (6 points)\n"
      ]
    },
    {
      "cell_type": "code",
      "execution_count": 47,
      "metadata": {
        "colab": {
          "base_uri": "https://localhost:8080/"
        },
        "id": "k1wgFg1bVRGY",
        "outputId": "3b136c18-6bfd-4364-e966-f4320b81ed61"
      },
      "outputs": [
        {
          "name": "stdout",
          "output_type": "stream",
          "text": [
            "Epoch: 01, Loss: 2.0764, Train: 25.00%, Valid: 8.00% Test: 10.90%\n",
            "Epoch: 02, Loss: 1.0138, Train: 38.57%, Valid: 13.40% Test: 17.50%\n",
            "Epoch: 03, Loss: 1.9934, Train: 57.86%, Valid: 28.60% Test: 32.60%\n",
            "Epoch: 04, Loss: 0.3476, Train: 83.57%, Valid: 44.20% Test: 49.20%\n",
            "Epoch: 05, Loss: 0.2680, Train: 90.00%, Valid: 58.40% Test: 58.70%\n",
            "Epoch: 06, Loss: 0.1372, Train: 95.71%, Valid: 64.80% Test: 64.30%\n",
            "Epoch: 07, Loss: 0.5981, Train: 99.29%, Valid: 67.00% Test: 68.80%\n",
            "Epoch: 08, Loss: 0.0652, Train: 99.29%, Valid: 68.20% Test: 69.80%\n",
            "Epoch: 09, Loss: 0.0510, Train: 99.29%, Valid: 68.80% Test: 70.20%\n",
            "Epoch: 10, Loss: 0.2189, Train: 100.00%, Valid: 69.60% Test: 70.90%\n",
            "Epoch: 11, Loss: 0.1587, Train: 100.00%, Valid: 69.20% Test: 71.10%\n",
            "Epoch: 12, Loss: 0.0157, Train: 100.00%, Valid: 69.60% Test: 71.50%\n",
            "Epoch: 13, Loss: 0.0143, Train: 100.00%, Valid: 70.00% Test: 71.30%\n",
            "Epoch: 14, Loss: 0.0060, Train: 100.00%, Valid: 69.80% Test: 71.70%\n",
            "Epoch: 15, Loss: 0.0462, Train: 100.00%, Valid: 69.40% Test: 71.80%\n",
            "Epoch: 16, Loss: 0.0292, Train: 100.00%, Valid: 69.00% Test: 71.50%\n",
            "Epoch: 17, Loss: 0.0020, Train: 100.00%, Valid: 68.80% Test: 71.40%\n",
            "Epoch: 18, Loss: 0.0138, Train: 100.00%, Valid: 68.80% Test: 71.20%\n",
            "Epoch: 19, Loss: 0.0062, Train: 100.00%, Valid: 69.00% Test: 71.50%\n",
            "Epoch: 20, Loss: 0.0094, Train: 100.00%, Valid: 69.60% Test: 71.70%\n",
            "Epoch: 21, Loss: 0.0042, Train: 100.00%, Valid: 69.80% Test: 72.00%\n",
            "Epoch: 22, Loss: 0.0023, Train: 100.00%, Valid: 69.80% Test: 72.40%\n",
            "Epoch: 23, Loss: 0.0032, Train: 100.00%, Valid: 69.80% Test: 72.20%\n",
            "Epoch: 24, Loss: 0.0005, Train: 100.00%, Valid: 70.00% Test: 72.20%\n",
            "Epoch: 25, Loss: 0.0031, Train: 100.00%, Valid: 69.60% Test: 72.50%\n",
            "Epoch: 26, Loss: 0.0004, Train: 100.00%, Valid: 69.80% Test: 72.80%\n",
            "Epoch: 27, Loss: 0.0017, Train: 100.00%, Valid: 69.80% Test: 72.80%\n",
            "Epoch: 28, Loss: 0.0004, Train: 100.00%, Valid: 69.80% Test: 72.70%\n",
            "Epoch: 29, Loss: 0.0017, Train: 100.00%, Valid: 69.60% Test: 72.80%\n",
            "Epoch: 30, Loss: 0.0002, Train: 100.00%, Valid: 69.80% Test: 72.70%\n",
            "Epoch: 31, Loss: 0.0005, Train: 100.00%, Valid: 70.00% Test: 72.80%\n",
            "Epoch: 32, Loss: 0.0009, Train: 100.00%, Valid: 70.20% Test: 72.60%\n",
            "Epoch: 33, Loss: 0.0007, Train: 100.00%, Valid: 70.60% Test: 72.70%\n",
            "Epoch: 34, Loss: 0.0019, Train: 100.00%, Valid: 71.00% Test: 72.80%\n",
            "Epoch: 35, Loss: 0.0006, Train: 100.00%, Valid: 70.80% Test: 72.50%\n",
            "Epoch: 36, Loss: 0.0016, Train: 100.00%, Valid: 70.60% Test: 72.40%\n",
            "Epoch: 37, Loss: 0.0025, Train: 100.00%, Valid: 70.60% Test: 72.50%\n",
            "Epoch: 38, Loss: 0.0013, Train: 100.00%, Valid: 70.40% Test: 72.50%\n",
            "Epoch: 39, Loss: 0.0013, Train: 100.00%, Valid: 70.40% Test: 72.50%\n",
            "Epoch: 40, Loss: 0.0004, Train: 100.00%, Valid: 70.60% Test: 72.50%\n",
            "Epoch: 41, Loss: 0.0009, Train: 100.00%, Valid: 70.20% Test: 72.40%\n",
            "Epoch: 42, Loss: 0.0001, Train: 100.00%, Valid: 70.40% Test: 72.40%\n",
            "Epoch: 43, Loss: 0.0004, Train: 100.00%, Valid: 70.20% Test: 72.40%\n",
            "Epoch: 44, Loss: 0.0001, Train: 100.00%, Valid: 70.40% Test: 72.60%\n",
            "Epoch: 45, Loss: 0.0002, Train: 100.00%, Valid: 70.20% Test: 72.50%\n",
            "Epoch: 46, Loss: 0.0002, Train: 100.00%, Valid: 70.60% Test: 72.60%\n",
            "Epoch: 47, Loss: 0.0005, Train: 100.00%, Valid: 70.40% Test: 72.50%\n",
            "Epoch: 48, Loss: 0.0008, Train: 100.00%, Valid: 70.60% Test: 72.80%\n",
            "Epoch: 49, Loss: 0.0004, Train: 100.00%, Valid: 70.60% Test: 72.80%\n",
            "Epoch: 50, Loss: 0.0003, Train: 100.00%, Valid: 70.60% Test: 72.80%\n",
            "Epoch: 51, Loss: 0.0008, Train: 100.00%, Valid: 70.80% Test: 72.70%\n",
            "Epoch: 52, Loss: 0.0006, Train: 100.00%, Valid: 70.60% Test: 72.70%\n",
            "Epoch: 53, Loss: 0.0006, Train: 100.00%, Valid: 70.60% Test: 72.70%\n",
            "Epoch: 54, Loss: 0.0004, Train: 100.00%, Valid: 70.60% Test: 72.80%\n",
            "Epoch: 55, Loss: 0.0002, Train: 100.00%, Valid: 70.80% Test: 72.60%\n",
            "Epoch: 56, Loss: 0.0003, Train: 100.00%, Valid: 70.60% Test: 72.60%\n",
            "Epoch: 57, Loss: 0.0001, Train: 100.00%, Valid: 70.80% Test: 72.60%\n",
            "Epoch: 58, Loss: 0.0001, Train: 100.00%, Valid: 71.00% Test: 72.80%\n",
            "Epoch: 59, Loss: 0.0001, Train: 100.00%, Valid: 70.80% Test: 72.60%\n",
            "Epoch: 60, Loss: 0.0007, Train: 100.00%, Valid: 70.60% Test: 72.70%\n",
            "Epoch: 61, Loss: 0.0009, Train: 100.00%, Valid: 70.60% Test: 72.90%\n",
            "Epoch: 62, Loss: 0.0000, Train: 100.00%, Valid: 70.60% Test: 72.70%\n",
            "Epoch: 63, Loss: 0.0000, Train: 100.00%, Valid: 71.00% Test: 72.80%\n",
            "Epoch: 64, Loss: 0.0002, Train: 100.00%, Valid: 71.00% Test: 72.60%\n",
            "Epoch: 65, Loss: 0.0001, Train: 100.00%, Valid: 71.00% Test: 72.80%\n",
            "Epoch: 66, Loss: 0.0003, Train: 100.00%, Valid: 71.00% Test: 72.70%\n",
            "Epoch: 67, Loss: 0.0001, Train: 100.00%, Valid: 71.00% Test: 72.70%\n",
            "Epoch: 68, Loss: 0.0003, Train: 100.00%, Valid: 70.60% Test: 72.70%\n",
            "Epoch: 69, Loss: 0.0005, Train: 100.00%, Valid: 70.60% Test: 72.80%\n",
            "Epoch: 70, Loss: 0.0002, Train: 100.00%, Valid: 70.40% Test: 72.80%\n",
            "Epoch: 71, Loss: 0.0016, Train: 100.00%, Valid: 70.60% Test: 72.90%\n",
            "Epoch: 72, Loss: 0.0006, Train: 100.00%, Valid: 70.60% Test: 72.90%\n",
            "Epoch: 73, Loss: 0.0003, Train: 100.00%, Valid: 70.80% Test: 73.00%\n",
            "Epoch: 74, Loss: 0.0001, Train: 100.00%, Valid: 70.80% Test: 72.90%\n",
            "Epoch: 75, Loss: 0.0017, Train: 100.00%, Valid: 70.60% Test: 73.00%\n",
            "Epoch: 76, Loss: 0.0000, Train: 100.00%, Valid: 70.80% Test: 73.10%\n",
            "Epoch: 77, Loss: 0.0001, Train: 100.00%, Valid: 70.40% Test: 72.90%\n",
            "Epoch: 78, Loss: 0.0000, Train: 100.00%, Valid: 70.40% Test: 72.80%\n",
            "Epoch: 79, Loss: 0.0001, Train: 100.00%, Valid: 70.40% Test: 72.60%\n",
            "Epoch: 80, Loss: 0.0010, Train: 100.00%, Valid: 69.60% Test: 72.70%\n",
            "Epoch: 81, Loss: 0.0003, Train: 100.00%, Valid: 69.60% Test: 72.60%\n",
            "Epoch: 82, Loss: 0.0000, Train: 100.00%, Valid: 69.00% Test: 72.70%\n",
            "Epoch: 83, Loss: 0.0000, Train: 100.00%, Valid: 69.40% Test: 72.60%\n",
            "Epoch: 84, Loss: 0.0001, Train: 100.00%, Valid: 69.20% Test: 72.60%\n",
            "Epoch: 85, Loss: 0.0000, Train: 100.00%, Valid: 69.40% Test: 72.60%\n",
            "Epoch: 86, Loss: 0.0001, Train: 100.00%, Valid: 69.60% Test: 72.60%\n",
            "Epoch: 87, Loss: 0.0001, Train: 100.00%, Valid: 69.60% Test: 72.50%\n",
            "Epoch: 88, Loss: 0.0002, Train: 100.00%, Valid: 69.40% Test: 72.60%\n",
            "Epoch: 89, Loss: 0.0001, Train: 100.00%, Valid: 69.40% Test: 72.60%\n",
            "Epoch: 90, Loss: 0.0001, Train: 100.00%, Valid: 69.80% Test: 72.70%\n",
            "Epoch: 91, Loss: 0.0001, Train: 100.00%, Valid: 70.20% Test: 72.70%\n",
            "Epoch: 92, Loss: 0.0002, Train: 100.00%, Valid: 70.20% Test: 72.80%\n",
            "Epoch: 93, Loss: 0.0001, Train: 100.00%, Valid: 70.20% Test: 72.70%\n",
            "Epoch: 94, Loss: 0.0003, Train: 100.00%, Valid: 70.20% Test: 72.80%\n",
            "Epoch: 95, Loss: 0.0001, Train: 100.00%, Valid: 70.20% Test: 72.90%\n",
            "Epoch: 96, Loss: 0.0000, Train: 100.00%, Valid: 70.20% Test: 72.80%\n",
            "Epoch: 97, Loss: 0.0004, Train: 100.00%, Valid: 70.20% Test: 72.90%\n",
            "Epoch: 98, Loss: 0.0012, Train: 100.00%, Valid: 70.20% Test: 72.90%\n",
            "Epoch: 99, Loss: 0.0028, Train: 100.00%, Valid: 70.20% Test: 72.80%\n",
            "Epoch: 100, Loss: 0.0026, Train: 100.00%, Valid: 70.20% Test: 72.90%\n",
            "Epoch: 101, Loss: 0.0013, Train: 100.00%, Valid: 70.20% Test: 73.20%\n",
            "Epoch: 102, Loss: 0.0006, Train: 100.00%, Valid: 70.40% Test: 73.20%\n",
            "Epoch: 103, Loss: 0.0001, Train: 100.00%, Valid: 70.40% Test: 73.20%\n",
            "Epoch: 104, Loss: 0.0001, Train: 100.00%, Valid: 70.40% Test: 73.10%\n",
            "Epoch: 105, Loss: 0.0001, Train: 100.00%, Valid: 70.00% Test: 72.90%\n",
            "Epoch: 106, Loss: 0.0000, Train: 100.00%, Valid: 69.80% Test: 72.90%\n",
            "Epoch: 107, Loss: 0.0069, Train: 100.00%, Valid: 70.40% Test: 73.00%\n",
            "Epoch: 108, Loss: 0.0001, Train: 100.00%, Valid: 70.40% Test: 73.20%\n",
            "Epoch: 109, Loss: 0.0003, Train: 100.00%, Valid: 70.20% Test: 73.30%\n",
            "Epoch: 110, Loss: 0.0000, Train: 100.00%, Valid: 70.40% Test: 73.40%\n",
            "Epoch: 111, Loss: 0.0001, Train: 100.00%, Valid: 71.00% Test: 73.50%\n",
            "Epoch: 112, Loss: 0.0001, Train: 100.00%, Valid: 70.80% Test: 73.50%\n",
            "Epoch: 113, Loss: 0.0033, Train: 100.00%, Valid: 71.20% Test: 73.90%\n",
            "Epoch: 114, Loss: 0.0001, Train: 100.00%, Valid: 71.20% Test: 73.50%\n",
            "Epoch: 115, Loss: 0.0001, Train: 100.00%, Valid: 71.00% Test: 73.60%\n",
            "Epoch: 116, Loss: 0.0002, Train: 100.00%, Valid: 71.00% Test: 74.00%\n",
            "Epoch: 117, Loss: 0.0001, Train: 100.00%, Valid: 71.00% Test: 74.10%\n",
            "Epoch: 118, Loss: 0.0003, Train: 100.00%, Valid: 71.40% Test: 74.00%\n",
            "Epoch: 119, Loss: 0.0001, Train: 100.00%, Valid: 71.60% Test: 74.10%\n",
            "Epoch: 120, Loss: 0.0004, Train: 100.00%, Valid: 71.80% Test: 74.30%\n",
            "Epoch: 121, Loss: 0.0001, Train: 100.00%, Valid: 71.80% Test: 74.10%\n",
            "Epoch: 122, Loss: 0.0008, Train: 100.00%, Valid: 71.60% Test: 74.40%\n",
            "Epoch: 123, Loss: 0.0008, Train: 100.00%, Valid: 72.00% Test: 74.50%\n",
            "Epoch: 124, Loss: 0.0001, Train: 100.00%, Valid: 71.80% Test: 74.70%\n",
            "Epoch: 125, Loss: 0.0027, Train: 100.00%, Valid: 72.00% Test: 74.40%\n",
            "Epoch: 126, Loss: 0.0001, Train: 100.00%, Valid: 72.40% Test: 74.70%\n",
            "Epoch: 127, Loss: 0.0001, Train: 100.00%, Valid: 72.20% Test: 74.50%\n",
            "Epoch: 128, Loss: 0.0000, Train: 100.00%, Valid: 72.20% Test: 74.50%\n",
            "Epoch: 129, Loss: 0.0011, Train: 100.00%, Valid: 72.20% Test: 74.50%\n",
            "Epoch: 130, Loss: 0.0006, Train: 100.00%, Valid: 72.20% Test: 74.50%\n",
            "Epoch: 131, Loss: 0.0001, Train: 100.00%, Valid: 72.20% Test: 74.60%\n",
            "Epoch: 132, Loss: 0.0001, Train: 100.00%, Valid: 72.40% Test: 74.50%\n",
            "Epoch: 133, Loss: 0.0000, Train: 100.00%, Valid: 72.40% Test: 74.60%\n",
            "Epoch: 134, Loss: 0.0001, Train: 100.00%, Valid: 72.60% Test: 74.70%\n",
            "Epoch: 135, Loss: 0.0001, Train: 100.00%, Valid: 72.60% Test: 74.90%\n",
            "Epoch: 136, Loss: 0.0002, Train: 100.00%, Valid: 73.00% Test: 75.00%\n",
            "Epoch: 137, Loss: 0.0001, Train: 100.00%, Valid: 72.60% Test: 74.80%\n",
            "Epoch: 138, Loss: 0.0001, Train: 100.00%, Valid: 72.40% Test: 74.80%\n",
            "Epoch: 139, Loss: 0.0003, Train: 100.00%, Valid: 72.80% Test: 74.90%\n",
            "Epoch: 140, Loss: 0.0008, Train: 100.00%, Valid: 72.80% Test: 75.10%\n",
            "Epoch: 141, Loss: 0.0002, Train: 100.00%, Valid: 72.80% Test: 74.90%\n",
            "Epoch: 142, Loss: 0.0003, Train: 100.00%, Valid: 73.00% Test: 75.00%\n",
            "Epoch: 143, Loss: 0.0001, Train: 100.00%, Valid: 72.80% Test: 74.80%\n",
            "Epoch: 144, Loss: 0.0003, Train: 100.00%, Valid: 72.40% Test: 74.70%\n",
            "Epoch: 145, Loss: 0.0000, Train: 100.00%, Valid: 72.60% Test: 74.70%\n",
            "Epoch: 146, Loss: 0.0014, Train: 100.00%, Valid: 72.40% Test: 74.70%\n",
            "Epoch: 147, Loss: 0.0000, Train: 100.00%, Valid: 72.40% Test: 74.80%\n",
            "Epoch: 148, Loss: 0.0001, Train: 100.00%, Valid: 72.20% Test: 74.80%\n",
            "Epoch: 149, Loss: 0.0008, Train: 100.00%, Valid: 72.20% Test: 74.90%\n",
            "Epoch: 150, Loss: 0.0001, Train: 100.00%, Valid: 72.20% Test: 74.80%\n",
            "Saving Model Predictions for Model: cluster bisection\n",
            "Best model: Train: 100.00%, Valid: 73.00% Test: 75.00%\n"
          ]
        }
      ],
      "source": [
        "if 'IS_GRADESCOPE_ENV' not in os.environ:\n",
        "  \n",
        "  set_seed()\n",
        "  \n",
        "  model = GNN(graph_train.num_node_features, args['hidden_size'], graph_train.num_node_labels, args).to(args['device'])\n",
        "\n",
        "  # Disable compile as this does not seem to work yet in PyTorch 2.0.1/PyG 2.3.1\n",
        "  # try:\n",
        "  #   model = torch_geometric.compile(model)\n",
        "  #   print(f\"GNN Model compiled\")\n",
        "  # except Exception as err:\n",
        "  #   print(f\"Model compile not supported: {err}\")\n",
        "\n",
        "  optimizer = torch.optim.Adam(model.parameters(), lr=args['lr'])\n",
        "  bisection_best_model, bisection_accs = train(graphs, [graph_train, graph_val, graph_test], args, model, optimizer, mode=\"community\")\n",
        "  train_acc, val_acc, test_acc = test([graph_train, graph_val, graph_test], bisection_best_model, save_model_results=True, batch_type=\"cluster\", title=\"bisection\")\n",
        "  print('Best model:',\n",
        "        f'Train: {100 * train_acc:.2f}%, '\n",
        "        f'Valid: {100 * val_acc:.2f}% '\n",
        "        f'Test: {100 * test_acc:.2f}%')"
      ]
    },
    {
      "cell_type": "markdown",
      "metadata": {
        "id": "5PROPwoOVcJy"
      },
      "source": [
        "## **Question 2.3a:** How does Greedy preprocessing partition our graph? (3 points)"
      ]
    },
    {
      "cell_type": "code",
      "execution_count": 48,
      "metadata": {
        "colab": {
          "base_uri": "https://localhost:8080/"
        },
        "id": "h3DVamWqVT92",
        "outputId": "edd56562-0cc1-4815-a1f5-e271ff962358"
      },
      "outputs": [
        {
          "name": "stdout",
          "output_type": "stream",
          "text": [
            "Index fields: val_mask ignored.\n",
            "Index fields: train_mask ignored.\n",
            "Index fields: test_mask ignored.\n",
            "Partition the graph in to 20 communities\n",
            "Each community has 121 nodes in average\n",
            "Each community has 222 edges in average\n"
          ]
        }
      ],
      "source": [
        "if 'IS_GRADESCOPE_ENV' not in os.environ:\n",
        "  \n",
        "  set_seed()\n",
        "\n",
        "  graphs_train, graphs_val, graphs_test = \\\n",
        "      GraphDataset.pyg_to_graphs(pyg_dataset, verbose=True, fixed_split=True)\n",
        "\n",
        "  graph_train = graphs_train[0]\n",
        "  graph_val = graphs_val[0]\n",
        "  graph_test = graphs_test[0]\n",
        "  graphs = preprocess(graph_train.G, graph_train.node_label_index, method=\"greedy\")\n",
        "  print(\"Partition the graph in to {} communities\".format(len(graphs)))\n",
        "  avg_num_nodes = 0\n",
        "  avg_num_edges = 0\n",
        "  for graph in graphs:\n",
        "      avg_num_nodes += graph.num_nodes\n",
        "      avg_num_edges += graph.num_edges\n",
        "  avg_num_nodes = int(avg_num_nodes / len(graphs))\n",
        "  avg_num_edges = int(avg_num_edges / len(graphs))\n",
        "  print(\"Each community has {} nodes in average\".format(avg_num_nodes))\n",
        "  print(\"Each community has {} edges in average\".format(avg_num_edges))"
      ]
    },
    {
      "cell_type": "markdown",
      "metadata": {
        "id": "93pR_-kxVgma"
      },
      "source": [
        "## **Question 2.3b:** Using Greedy preprocessing to partition the graph, what is the maximum test accuracy obtained by your vanilla Cluster-GCN? (6 points)"
      ]
    },
    {
      "cell_type": "code",
      "execution_count": 49,
      "metadata": {
        "colab": {
          "base_uri": "https://localhost:8080/"
        },
        "id": "lQgQY-jPVd_U",
        "outputId": "5182d19b-ce30-406c-c7e8-1a55b80c429c"
      },
      "outputs": [
        {
          "name": "stdout",
          "output_type": "stream",
          "text": [
            "Epoch: 01, Loss: 2.0405, Train: 17.86%, Valid: 11.40% Test: 13.60%\n",
            "Epoch: 02, Loss: 2.5189, Train: 22.86%, Valid: 13.40% Test: 15.80%\n",
            "Epoch: 03, Loss: 2.2059, Train: 25.71%, Valid: 14.40% Test: 16.60%\n",
            "Epoch: 04, Loss: 0.4972, Train: 20.00%, Valid: 11.40% Test: 13.00%\n",
            "Epoch: 05, Loss: 1.4532, Train: 21.43%, Valid: 13.40% Test: 13.70%\n",
            "Epoch: 06, Loss: 2.1473, Train: 20.71%, Valid: 15.20% Test: 17.10%\n",
            "Epoch: 07, Loss: 2.5288, Train: 25.00%, Valid: 18.80% Test: 21.90%\n",
            "Epoch: 08, Loss: 1.1773, Train: 25.00%, Valid: 24.20% Test: 28.30%\n",
            "Epoch: 09, Loss: 3.8370, Train: 27.86%, Valid: 25.80% Test: 29.30%\n",
            "Epoch: 10, Loss: 2.7389, Train: 26.43%, Valid: 26.60% Test: 29.10%\n",
            "Epoch: 11, Loss: 2.3315, Train: 29.29%, Valid: 27.60% Test: 29.80%\n",
            "Epoch: 12, Loss: 2.4674, Train: 34.29%, Valid: 28.00% Test: 29.50%\n",
            "Epoch: 13, Loss: 2.0731, Train: 35.00%, Valid: 29.00% Test: 28.10%\n",
            "Epoch: 14, Loss: 0.0476, Train: 40.00%, Valid: 28.00% Test: 27.70%\n",
            "Epoch: 15, Loss: 0.2839, Train: 37.86%, Valid: 26.80% Test: 27.70%\n",
            "Epoch: 16, Loss: 1.4566, Train: 39.29%, Valid: 24.60% Test: 25.60%\n",
            "Epoch: 17, Loss: 0.9771, Train: 45.71%, Valid: 23.00% Test: 24.50%\n",
            "Epoch: 18, Loss: 0.1072, Train: 47.14%, Valid: 23.40% Test: 24.40%\n",
            "Epoch: 19, Loss: 2.1813, Train: 50.00%, Valid: 23.00% Test: 23.80%\n",
            "Epoch: 20, Loss: 1.6741, Train: 51.43%, Valid: 22.00% Test: 23.20%\n",
            "Epoch: 21, Loss: 0.1276, Train: 53.57%, Valid: 22.40% Test: 23.80%\n",
            "Epoch: 22, Loss: 1.1560, Train: 54.29%, Valid: 21.80% Test: 23.10%\n",
            "Epoch: 23, Loss: 1.3368, Train: 55.00%, Valid: 22.20% Test: 22.30%\n",
            "Epoch: 24, Loss: 0.8035, Train: 52.14%, Valid: 22.40% Test: 20.90%\n",
            "Epoch: 25, Loss: 2.0076, Train: 50.00%, Valid: 22.40% Test: 20.00%\n",
            "Epoch: 26, Loss: 0.9651, Train: 48.57%, Valid: 23.60% Test: 19.70%\n",
            "Epoch: 27, Loss: 4.4287, Train: 52.14%, Valid: 23.40% Test: 19.80%\n",
            "Epoch: 28, Loss: 0.2554, Train: 52.86%, Valid: 23.80% Test: 22.00%\n",
            "Epoch: 29, Loss: 0.0133, Train: 55.71%, Valid: 24.00% Test: 23.40%\n",
            "Epoch: 30, Loss: 0.0117, Train: 56.43%, Valid: 23.80% Test: 23.40%\n",
            "Epoch: 31, Loss: 1.2780, Train: 55.71%, Valid: 23.20% Test: 24.20%\n",
            "Epoch: 32, Loss: 1.9311, Train: 55.00%, Valid: 23.20% Test: 23.60%\n",
            "Epoch: 33, Loss: 0.7075, Train: 56.43%, Valid: 24.60% Test: 24.30%\n",
            "Epoch: 34, Loss: 0.4211, Train: 57.14%, Valid: 23.60% Test: 24.20%\n",
            "Epoch: 35, Loss: 4.7970, Train: 59.29%, Valid: 23.60% Test: 24.70%\n",
            "Epoch: 36, Loss: 3.6151, Train: 61.43%, Valid: 24.00% Test: 24.90%\n",
            "Epoch: 37, Loss: 2.8157, Train: 65.00%, Valid: 23.80% Test: 25.10%\n",
            "Epoch: 38, Loss: 0.8679, Train: 71.43%, Valid: 23.60% Test: 25.60%\n",
            "Epoch: 39, Loss: 0.1629, Train: 74.29%, Valid: 26.00% Test: 26.90%\n",
            "Epoch: 40, Loss: 0.6521, Train: 76.43%, Valid: 27.80% Test: 27.70%\n",
            "Epoch: 41, Loss: 0.2195, Train: 76.43%, Valid: 25.80% Test: 28.80%\n",
            "Epoch: 42, Loss: 0.7268, Train: 76.43%, Valid: 25.00% Test: 27.60%\n",
            "Epoch: 43, Loss: 0.9723, Train: 80.00%, Valid: 24.40% Test: 27.40%\n",
            "Epoch: 44, Loss: 0.6540, Train: 79.29%, Valid: 23.80% Test: 26.30%\n",
            "Epoch: 45, Loss: 1.4239, Train: 77.14%, Valid: 23.60% Test: 24.80%\n",
            "Epoch: 46, Loss: 2.2241, Train: 77.86%, Valid: 21.80% Test: 24.50%\n",
            "Epoch: 47, Loss: 0.2789, Train: 75.71%, Valid: 21.40% Test: 23.70%\n",
            "Epoch: 48, Loss: 0.0783, Train: 75.00%, Valid: 21.00% Test: 22.60%\n",
            "Epoch: 49, Loss: 0.2732, Train: 75.71%, Valid: 21.00% Test: 22.40%\n",
            "Epoch: 50, Loss: 0.2031, Train: 75.71%, Valid: 21.60% Test: 22.60%\n",
            "Epoch: 51, Loss: 0.0266, Train: 75.00%, Valid: 21.20% Test: 23.20%\n",
            "Epoch: 52, Loss: 1.3503, Train: 77.14%, Valid: 23.00% Test: 23.50%\n",
            "Epoch: 53, Loss: 0.2919, Train: 79.29%, Valid: 23.80% Test: 24.00%\n",
            "Epoch: 54, Loss: 0.7428, Train: 81.43%, Valid: 26.00% Test: 25.40%\n",
            "Epoch: 55, Loss: 0.1032, Train: 82.86%, Valid: 26.80% Test: 25.70%\n",
            "Epoch: 56, Loss: 0.7591, Train: 84.29%, Valid: 27.20% Test: 27.00%\n",
            "Epoch: 57, Loss: 0.0218, Train: 85.71%, Valid: 27.20% Test: 27.30%\n",
            "Epoch: 58, Loss: 0.8403, Train: 87.14%, Valid: 27.00% Test: 27.40%\n",
            "Epoch: 59, Loss: 0.1226, Train: 87.86%, Valid: 29.40% Test: 28.30%\n",
            "Epoch: 60, Loss: 0.1888, Train: 87.86%, Valid: 29.60% Test: 28.80%\n",
            "Epoch: 61, Loss: 0.3894, Train: 87.86%, Valid: 29.60% Test: 28.50%\n",
            "Epoch: 62, Loss: 0.0360, Train: 88.57%, Valid: 28.60% Test: 27.80%\n",
            "Epoch: 63, Loss: 0.5298, Train: 88.57%, Valid: 30.00% Test: 27.00%\n",
            "Epoch: 64, Loss: 0.3615, Train: 88.57%, Valid: 30.00% Test: 27.50%\n",
            "Epoch: 65, Loss: 0.3301, Train: 88.57%, Valid: 29.80% Test: 29.00%\n",
            "Epoch: 66, Loss: 0.5154, Train: 88.57%, Valid: 30.20% Test: 28.70%\n",
            "Epoch: 67, Loss: 0.2866, Train: 88.57%, Valid: 29.80% Test: 28.50%\n",
            "Epoch: 68, Loss: 0.0010, Train: 89.29%, Valid: 30.00% Test: 28.50%\n",
            "Epoch: 69, Loss: 0.0352, Train: 89.29%, Valid: 26.00% Test: 28.10%\n",
            "Epoch: 70, Loss: 0.0247, Train: 90.00%, Valid: 26.00% Test: 28.70%\n",
            "Epoch: 71, Loss: 0.4235, Train: 88.57%, Valid: 26.80% Test: 29.50%\n",
            "Epoch: 72, Loss: 0.5173, Train: 88.57%, Valid: 27.80% Test: 29.40%\n",
            "Epoch: 73, Loss: 0.0153, Train: 88.57%, Valid: 26.80% Test: 28.80%\n",
            "Epoch: 74, Loss: 0.0308, Train: 88.57%, Valid: 26.60% Test: 28.30%\n",
            "Epoch: 75, Loss: 0.1394, Train: 88.57%, Valid: 26.40% Test: 27.80%\n",
            "Epoch: 76, Loss: 0.7884, Train: 88.57%, Valid: 27.60% Test: 28.30%\n",
            "Epoch: 77, Loss: 0.0152, Train: 89.29%, Valid: 28.80% Test: 28.00%\n",
            "Epoch: 78, Loss: 0.5372, Train: 89.29%, Valid: 29.00% Test: 28.30%\n",
            "Epoch: 79, Loss: 0.1105, Train: 88.57%, Valid: 28.60% Test: 29.40%\n",
            "Epoch: 80, Loss: 0.6118, Train: 88.57%, Valid: 28.60% Test: 29.50%\n",
            "Epoch: 81, Loss: 0.1042, Train: 89.29%, Valid: 28.80% Test: 30.00%\n",
            "Epoch: 82, Loss: 0.0884, Train: 89.29%, Valid: 30.40% Test: 30.60%\n",
            "Epoch: 83, Loss: 0.1432, Train: 89.29%, Valid: 30.40% Test: 30.50%\n",
            "Epoch: 84, Loss: 0.0055, Train: 89.29%, Valid: 29.80% Test: 30.70%\n",
            "Epoch: 85, Loss: 0.1824, Train: 89.29%, Valid: 29.60% Test: 30.90%\n",
            "Epoch: 86, Loss: 0.0389, Train: 89.29%, Valid: 30.20% Test: 30.70%\n",
            "Epoch: 87, Loss: 0.0556, Train: 89.29%, Valid: 29.40% Test: 30.70%\n",
            "Epoch: 88, Loss: 0.0183, Train: 89.29%, Valid: 29.60% Test: 30.30%\n",
            "Epoch: 89, Loss: 0.0043, Train: 89.29%, Valid: 30.60% Test: 30.70%\n",
            "Epoch: 90, Loss: 0.0767, Train: 89.29%, Valid: 30.40% Test: 30.30%\n",
            "Epoch: 91, Loss: 0.0162, Train: 89.29%, Valid: 30.00% Test: 30.30%\n",
            "Epoch: 92, Loss: 0.0138, Train: 89.29%, Valid: 29.20% Test: 29.20%\n",
            "Epoch: 93, Loss: 0.0000, Train: 89.29%, Valid: 28.80% Test: 29.60%\n",
            "Epoch: 94, Loss: 0.0105, Train: 88.57%, Valid: 29.40% Test: 29.90%\n",
            "Epoch: 95, Loss: 0.0400, Train: 88.57%, Valid: 30.20% Test: 30.30%\n",
            "Epoch: 96, Loss: 0.0983, Train: 88.57%, Valid: 29.80% Test: 29.70%\n",
            "Epoch: 97, Loss: 0.2988, Train: 88.57%, Valid: 30.60% Test: 29.30%\n",
            "Epoch: 98, Loss: 0.1450, Train: 88.57%, Valid: 30.60% Test: 29.20%\n",
            "Epoch: 99, Loss: 0.3348, Train: 88.57%, Valid: 30.60% Test: 29.10%\n",
            "Epoch: 100, Loss: 0.0166, Train: 88.57%, Valid: 30.40% Test: 29.10%\n",
            "Epoch: 101, Loss: 0.0124, Train: 88.57%, Valid: 31.00% Test: 28.80%\n",
            "Epoch: 102, Loss: 0.0288, Train: 88.57%, Valid: 30.80% Test: 29.30%\n",
            "Epoch: 103, Loss: 0.0110, Train: 88.57%, Valid: 31.20% Test: 29.50%\n",
            "Epoch: 104, Loss: 0.2136, Train: 88.57%, Valid: 31.40% Test: 29.20%\n",
            "Epoch: 105, Loss: 0.2162, Train: 88.57%, Valid: 32.00% Test: 29.60%\n",
            "Epoch: 106, Loss: 0.0006, Train: 88.57%, Valid: 32.00% Test: 29.80%\n",
            "Epoch: 107, Loss: 0.0526, Train: 88.57%, Valid: 32.20% Test: 30.10%\n",
            "Epoch: 108, Loss: 0.0001, Train: 88.57%, Valid: 32.20% Test: 30.60%\n",
            "Epoch: 109, Loss: 0.0002, Train: 88.57%, Valid: 31.00% Test: 29.80%\n",
            "Epoch: 110, Loss: 0.0001, Train: 88.57%, Valid: 30.80% Test: 30.20%\n",
            "Epoch: 111, Loss: 0.0000, Train: 88.57%, Valid: 29.20% Test: 28.90%\n",
            "Epoch: 112, Loss: 0.0054, Train: 88.57%, Valid: 29.40% Test: 30.70%\n",
            "Epoch: 113, Loss: 0.0101, Train: 88.57%, Valid: 30.00% Test: 30.40%\n",
            "Epoch: 114, Loss: 0.0000, Train: 88.57%, Valid: 30.60% Test: 30.50%\n",
            "Epoch: 115, Loss: 0.0210, Train: 88.57%, Valid: 30.00% Test: 30.00%\n",
            "Epoch: 116, Loss: 0.0182, Train: 88.57%, Valid: 32.00% Test: 30.50%\n",
            "Epoch: 117, Loss: 0.0167, Train: 88.57%, Valid: 31.20% Test: 30.40%\n",
            "Epoch: 118, Loss: 0.0000, Train: 88.57%, Valid: 31.80% Test: 30.10%\n",
            "Epoch: 119, Loss: 0.0021, Train: 88.57%, Valid: 31.60% Test: 30.60%\n",
            "Epoch: 120, Loss: 0.0070, Train: 88.57%, Valid: 30.40% Test: 31.30%\n",
            "Epoch: 121, Loss: 0.0280, Train: 89.29%, Valid: 31.00% Test: 30.90%\n",
            "Epoch: 122, Loss: 0.0013, Train: 89.29%, Valid: 30.60% Test: 31.80%\n",
            "Epoch: 123, Loss: 0.0208, Train: 90.00%, Valid: 31.40% Test: 32.00%\n",
            "Epoch: 124, Loss: 0.1832, Train: 90.71%, Valid: 30.20% Test: 31.50%\n",
            "Epoch: 125, Loss: 0.0554, Train: 90.00%, Valid: 28.60% Test: 30.60%\n",
            "Epoch: 126, Loss: 0.0063, Train: 89.29%, Valid: 30.00% Test: 31.20%\n",
            "Epoch: 127, Loss: 0.0085, Train: 89.29%, Valid: 30.20% Test: 31.10%\n",
            "Epoch: 128, Loss: 0.0172, Train: 89.29%, Valid: 29.80% Test: 31.40%\n",
            "Epoch: 129, Loss: 0.0012, Train: 89.29%, Valid: 30.60% Test: 31.60%\n",
            "Epoch: 130, Loss: 0.2987, Train: 89.29%, Valid: 31.40% Test: 31.50%\n",
            "Epoch: 131, Loss: 0.2041, Train: 89.29%, Valid: 32.40% Test: 31.50%\n",
            "Epoch: 132, Loss: 0.0001, Train: 90.00%, Valid: 32.60% Test: 30.50%\n",
            "Epoch: 133, Loss: 0.0317, Train: 90.00%, Valid: 33.60% Test: 30.90%\n",
            "Epoch: 134, Loss: 0.0295, Train: 89.29%, Valid: 31.60% Test: 31.10%\n",
            "Epoch: 135, Loss: 0.0510, Train: 89.29%, Valid: 33.20% Test: 30.60%\n",
            "Epoch: 136, Loss: 0.0226, Train: 90.00%, Valid: 33.20% Test: 30.50%\n",
            "Epoch: 137, Loss: 0.0003, Train: 90.00%, Valid: 33.20% Test: 30.40%\n",
            "Epoch: 138, Loss: 0.0096, Train: 90.00%, Valid: 33.00% Test: 30.40%\n",
            "Epoch: 139, Loss: 0.0938, Train: 90.00%, Valid: 33.20% Test: 30.20%\n",
            "Epoch: 140, Loss: 0.0021, Train: 90.00%, Valid: 33.40% Test: 29.80%\n",
            "Epoch: 141, Loss: 0.0873, Train: 90.00%, Valid: 32.00% Test: 29.80%\n",
            "Epoch: 142, Loss: 0.0011, Train: 90.00%, Valid: 32.40% Test: 30.00%\n",
            "Epoch: 143, Loss: 0.0032, Train: 90.00%, Valid: 32.00% Test: 30.30%\n",
            "Epoch: 144, Loss: 0.0002, Train: 90.00%, Valid: 32.40% Test: 30.50%\n",
            "Epoch: 145, Loss: 0.0002, Train: 90.00%, Valid: 32.40% Test: 30.90%\n",
            "Epoch: 146, Loss: 0.0000, Train: 90.71%, Valid: 31.80% Test: 31.10%\n",
            "Epoch: 147, Loss: 0.0076, Train: 90.71%, Valid: 32.00% Test: 31.20%\n",
            "Epoch: 148, Loss: 0.0004, Train: 90.00%, Valid: 32.20% Test: 31.30%\n",
            "Epoch: 149, Loss: 0.0106, Train: 90.00%, Valid: 31.80% Test: 31.30%\n",
            "Epoch: 150, Loss: 0.0058, Train: 90.00%, Valid: 31.00% Test: 31.10%\n",
            "Saving Model Predictions for Model: cluster greedy\n",
            "Best model: Train: 90.00%, Valid: 33.60% Test: 30.90%\n"
          ]
        }
      ],
      "source": [
        "if 'IS_GRADESCOPE_ENV' not in os.environ: \n",
        "  \n",
        "  set_seed()\n",
        "\n",
        "  model = GNN(graph_train.num_node_features, args['hidden_size'], graph_train.num_node_labels, args).to(args['device'])\n",
        "\n",
        "  # Disable compile as this does not seem to work yet in PyTorch 2.0.1/PyG 2.3.1\n",
        "  # try:\n",
        "  #   model = torch_geometric.compile(model)\n",
        "  #   print(f\"GNN Model compiled\")\n",
        "  # except Exception as err:\n",
        "  #   print(f\"Model compile not supported: {err}\")\n",
        "\n",
        "  optimizer = torch.optim.Adam(model.parameters(), lr=args['lr'])\n",
        "  greedy_best_model, greedy_accs = train(graphs, [graph_train, graph_val, graph_test], args, model, optimizer, mode=\"community\")\n",
        "  train_acc, val_acc, test_acc = test([graph_train, graph_val, graph_test], greedy_best_model, save_model_results=True, batch_type=\"cluster\", title=\"greedy\")\n",
        "  print('Best model:',\n",
        "        f'Train: {100 * train_acc:.2f}%, '\n",
        "        f'Valid: {100 * val_acc:.2f}% '\n",
        "        f'Test: {100 * test_acc:.2f}%')"
      ]
    },
    {
      "cell_type": "markdown",
      "metadata": {
        "id": "D5edKKT6Vk1C"
      },
      "source": [
        "## Full-Batch Training"
      ]
    },
    {
      "cell_type": "code",
      "execution_count": 50,
      "metadata": {
        "colab": {
          "base_uri": "https://localhost:8080/"
        },
        "id": "N5tIXxC8ViFD",
        "outputId": "4dbf88f1-dde8-4033-9240-980d27f3a598"
      },
      "outputs": [
        {
          "name": "stdout",
          "output_type": "stream",
          "text": [
            "Index fields: val_mask ignored.\n",
            "Index fields: train_mask ignored.\n",
            "Index fields: test_mask ignored.\n",
            "Epoch: 01, Loss: 1.9927, Train: 65.71%, Valid: 30.80% Test: 36.20%\n",
            "Epoch: 02, Loss: 1.0889, Train: 97.14%, Valid: 53.20% Test: 57.20%\n",
            "Epoch: 03, Loss: 0.6262, Train: 99.29%, Valid: 66.80% Test: 68.40%\n",
            "Epoch: 04, Loss: 0.2879, Train: 100.00%, Valid: 72.80% Test: 72.70%\n",
            "Epoch: 05, Loss: 0.1308, Train: 100.00%, Valid: 73.60% Test: 74.00%\n",
            "Epoch: 06, Loss: 0.0578, Train: 100.00%, Valid: 74.00% Test: 74.60%\n",
            "Epoch: 07, Loss: 0.0459, Train: 100.00%, Valid: 74.60% Test: 74.60%\n",
            "Epoch: 08, Loss: 0.0201, Train: 100.00%, Valid: 75.00% Test: 74.70%\n",
            "Epoch: 09, Loss: 0.0123, Train: 100.00%, Valid: 74.20% Test: 74.20%\n",
            "Epoch: 10, Loss: 0.0086, Train: 100.00%, Valid: 73.60% Test: 74.00%\n",
            "Epoch: 11, Loss: 0.0052, Train: 100.00%, Valid: 73.40% Test: 73.90%\n",
            "Epoch: 12, Loss: 0.0038, Train: 100.00%, Valid: 73.20% Test: 73.90%\n",
            "Epoch: 13, Loss: 0.0087, Train: 100.00%, Valid: 73.60% Test: 73.80%\n",
            "Epoch: 14, Loss: 0.0017, Train: 100.00%, Valid: 73.60% Test: 73.80%\n",
            "Epoch: 15, Loss: 0.0024, Train: 100.00%, Valid: 73.00% Test: 73.60%\n",
            "Epoch: 16, Loss: 0.0035, Train: 100.00%, Valid: 73.00% Test: 73.20%\n",
            "Epoch: 17, Loss: 0.0025, Train: 100.00%, Valid: 72.80% Test: 73.20%\n",
            "Epoch: 18, Loss: 0.0023, Train: 100.00%, Valid: 73.00% Test: 72.90%\n",
            "Epoch: 19, Loss: 0.0003, Train: 100.00%, Valid: 72.80% Test: 73.10%\n",
            "Epoch: 20, Loss: 0.0001, Train: 100.00%, Valid: 73.00% Test: 73.50%\n",
            "Epoch: 21, Loss: 0.0013, Train: 100.00%, Valid: 73.00% Test: 73.30%\n",
            "Epoch: 22, Loss: 0.0002, Train: 100.00%, Valid: 72.80% Test: 73.30%\n",
            "Epoch: 23, Loss: 0.0010, Train: 100.00%, Valid: 72.80% Test: 73.30%\n",
            "Epoch: 24, Loss: 0.0002, Train: 100.00%, Valid: 72.60% Test: 73.30%\n",
            "Epoch: 25, Loss: 0.0002, Train: 100.00%, Valid: 72.20% Test: 73.30%\n",
            "Epoch: 26, Loss: 0.0000, Train: 100.00%, Valid: 72.20% Test: 73.20%\n",
            "Epoch: 27, Loss: 0.0052, Train: 100.00%, Valid: 72.20% Test: 73.10%\n",
            "Epoch: 28, Loss: 0.0003, Train: 100.00%, Valid: 72.40% Test: 73.20%\n",
            "Epoch: 29, Loss: 0.0001, Train: 100.00%, Valid: 72.20% Test: 73.10%\n",
            "Epoch: 30, Loss: 0.0001, Train: 100.00%, Valid: 72.40% Test: 73.20%\n",
            "Epoch: 31, Loss: 0.0003, Train: 100.00%, Valid: 72.40% Test: 73.30%\n",
            "Epoch: 32, Loss: 0.0001, Train: 100.00%, Valid: 72.40% Test: 73.50%\n",
            "Epoch: 33, Loss: 0.0003, Train: 100.00%, Valid: 72.40% Test: 73.50%\n",
            "Epoch: 34, Loss: 0.0005, Train: 100.00%, Valid: 72.40% Test: 73.50%\n",
            "Epoch: 35, Loss: 0.0002, Train: 100.00%, Valid: 72.60% Test: 73.70%\n",
            "Epoch: 36, Loss: 0.0000, Train: 100.00%, Valid: 72.40% Test: 73.80%\n",
            "Epoch: 37, Loss: 0.0004, Train: 100.00%, Valid: 72.40% Test: 73.90%\n",
            "Epoch: 38, Loss: 0.0007, Train: 100.00%, Valid: 72.40% Test: 73.90%\n",
            "Epoch: 39, Loss: 0.0004, Train: 100.00%, Valid: 72.40% Test: 74.00%\n",
            "Epoch: 40, Loss: 0.0001, Train: 100.00%, Valid: 72.40% Test: 74.00%\n",
            "Epoch: 41, Loss: 0.0000, Train: 100.00%, Valid: 72.40% Test: 74.20%\n",
            "Epoch: 42, Loss: 0.0000, Train: 100.00%, Valid: 72.40% Test: 74.20%\n",
            "Epoch: 43, Loss: 0.0000, Train: 100.00%, Valid: 72.40% Test: 74.10%\n",
            "Epoch: 44, Loss: 0.0001, Train: 100.00%, Valid: 72.20% Test: 74.10%\n",
            "Epoch: 45, Loss: 0.0001, Train: 100.00%, Valid: 72.40% Test: 74.10%\n",
            "Epoch: 46, Loss: 0.0003, Train: 100.00%, Valid: 72.60% Test: 74.10%\n",
            "Epoch: 47, Loss: 0.0001, Train: 100.00%, Valid: 72.60% Test: 74.10%\n",
            "Epoch: 48, Loss: 0.0002, Train: 100.00%, Valid: 72.60% Test: 74.10%\n",
            "Epoch: 49, Loss: 0.0001, Train: 100.00%, Valid: 72.60% Test: 74.10%\n",
            "Epoch: 50, Loss: 0.0001, Train: 100.00%, Valid: 72.60% Test: 74.20%\n",
            "Epoch: 51, Loss: 0.0000, Train: 100.00%, Valid: 72.60% Test: 74.30%\n",
            "Epoch: 52, Loss: 0.0001, Train: 100.00%, Valid: 72.60% Test: 74.40%\n",
            "Epoch: 53, Loss: 0.0001, Train: 100.00%, Valid: 72.60% Test: 74.40%\n",
            "Epoch: 54, Loss: 0.0001, Train: 100.00%, Valid: 72.60% Test: 74.40%\n",
            "Epoch: 55, Loss: 0.0000, Train: 100.00%, Valid: 72.60% Test: 74.40%\n",
            "Epoch: 56, Loss: 0.0000, Train: 100.00%, Valid: 72.60% Test: 74.40%\n",
            "Epoch: 57, Loss: 0.0000, Train: 100.00%, Valid: 72.60% Test: 74.40%\n",
            "Epoch: 58, Loss: 0.0000, Train: 100.00%, Valid: 72.40% Test: 74.30%\n",
            "Epoch: 59, Loss: 0.0001, Train: 100.00%, Valid: 72.40% Test: 74.30%\n",
            "Epoch: 60, Loss: 0.0000, Train: 100.00%, Valid: 72.40% Test: 74.30%\n",
            "Epoch: 61, Loss: 0.0002, Train: 100.00%, Valid: 72.40% Test: 74.30%\n",
            "Epoch: 62, Loss: 0.0000, Train: 100.00%, Valid: 72.40% Test: 74.30%\n",
            "Epoch: 63, Loss: 0.0001, Train: 100.00%, Valid: 72.40% Test: 74.30%\n",
            "Epoch: 64, Loss: 0.0031, Train: 100.00%, Valid: 72.40% Test: 74.30%\n",
            "Epoch: 65, Loss: 0.0000, Train: 100.00%, Valid: 72.00% Test: 74.50%\n",
            "Epoch: 66, Loss: 0.0000, Train: 100.00%, Valid: 72.20% Test: 74.50%\n",
            "Epoch: 67, Loss: 0.0004, Train: 100.00%, Valid: 72.20% Test: 74.60%\n",
            "Epoch: 68, Loss: 0.0001, Train: 100.00%, Valid: 72.20% Test: 74.60%\n",
            "Epoch: 69, Loss: 0.0001, Train: 100.00%, Valid: 72.20% Test: 74.50%\n",
            "Epoch: 70, Loss: 0.0000, Train: 100.00%, Valid: 72.00% Test: 74.50%\n",
            "Epoch: 71, Loss: 0.0000, Train: 100.00%, Valid: 72.00% Test: 74.50%\n",
            "Epoch: 72, Loss: 0.0001, Train: 100.00%, Valid: 72.00% Test: 74.60%\n",
            "Epoch: 73, Loss: 0.0000, Train: 100.00%, Valid: 72.00% Test: 74.50%\n",
            "Epoch: 74, Loss: 0.0000, Train: 100.00%, Valid: 72.00% Test: 74.40%\n",
            "Epoch: 75, Loss: 0.0001, Train: 100.00%, Valid: 72.00% Test: 74.40%\n",
            "Epoch: 76, Loss: 0.0000, Train: 100.00%, Valid: 72.00% Test: 74.50%\n",
            "Epoch: 77, Loss: 0.0001, Train: 100.00%, Valid: 72.00% Test: 74.50%\n",
            "Epoch: 78, Loss: 0.0000, Train: 100.00%, Valid: 72.20% Test: 74.50%\n",
            "Epoch: 79, Loss: 0.0000, Train: 100.00%, Valid: 72.20% Test: 74.50%\n",
            "Epoch: 80, Loss: 0.0000, Train: 100.00%, Valid: 72.40% Test: 74.50%\n",
            "Epoch: 81, Loss: 0.0001, Train: 100.00%, Valid: 72.20% Test: 74.50%\n",
            "Epoch: 82, Loss: 0.0001, Train: 100.00%, Valid: 72.20% Test: 74.50%\n",
            "Epoch: 83, Loss: 0.0000, Train: 100.00%, Valid: 72.20% Test: 74.50%\n",
            "Epoch: 84, Loss: 0.0001, Train: 100.00%, Valid: 72.20% Test: 74.50%\n",
            "Epoch: 85, Loss: 0.0000, Train: 100.00%, Valid: 72.20% Test: 74.50%\n",
            "Epoch: 86, Loss: 0.0000, Train: 100.00%, Valid: 72.20% Test: 74.50%\n",
            "Epoch: 87, Loss: 0.0000, Train: 100.00%, Valid: 72.20% Test: 74.50%\n",
            "Epoch: 88, Loss: 0.0000, Train: 100.00%, Valid: 72.00% Test: 74.40%\n",
            "Epoch: 89, Loss: 0.0000, Train: 100.00%, Valid: 72.00% Test: 74.40%\n",
            "Epoch: 90, Loss: 0.0005, Train: 100.00%, Valid: 72.20% Test: 74.40%\n",
            "Epoch: 91, Loss: 0.0001, Train: 100.00%, Valid: 72.20% Test: 74.40%\n",
            "Epoch: 92, Loss: 0.0000, Train: 100.00%, Valid: 72.20% Test: 74.40%\n",
            "Epoch: 93, Loss: 0.0000, Train: 100.00%, Valid: 72.20% Test: 74.40%\n",
            "Epoch: 94, Loss: 0.0000, Train: 100.00%, Valid: 72.20% Test: 74.40%\n",
            "Epoch: 95, Loss: 0.0001, Train: 100.00%, Valid: 72.20% Test: 74.40%\n",
            "Epoch: 96, Loss: 0.0011, Train: 100.00%, Valid: 72.20% Test: 74.30%\n",
            "Epoch: 97, Loss: 0.0000, Train: 100.00%, Valid: 72.40% Test: 74.30%\n",
            "Epoch: 98, Loss: 0.0000, Train: 100.00%, Valid: 72.60% Test: 74.40%\n",
            "Epoch: 99, Loss: 0.0000, Train: 100.00%, Valid: 72.60% Test: 74.60%\n",
            "Epoch: 100, Loss: 0.0000, Train: 100.00%, Valid: 72.80% Test: 74.60%\n",
            "Epoch: 101, Loss: 0.0001, Train: 100.00%, Valid: 72.80% Test: 74.70%\n",
            "Epoch: 102, Loss: 0.0000, Train: 100.00%, Valid: 72.80% Test: 74.80%\n",
            "Epoch: 103, Loss: 0.0000, Train: 100.00%, Valid: 72.80% Test: 74.90%\n",
            "Epoch: 104, Loss: 0.0000, Train: 100.00%, Valid: 72.60% Test: 74.80%\n",
            "Epoch: 105, Loss: 0.0000, Train: 100.00%, Valid: 72.60% Test: 74.80%\n",
            "Epoch: 106, Loss: 0.0000, Train: 100.00%, Valid: 72.80% Test: 74.80%\n",
            "Epoch: 107, Loss: 0.0001, Train: 100.00%, Valid: 72.80% Test: 74.80%\n",
            "Epoch: 108, Loss: 0.0002, Train: 100.00%, Valid: 72.80% Test: 74.60%\n",
            "Epoch: 109, Loss: 0.0000, Train: 100.00%, Valid: 72.80% Test: 74.60%\n",
            "Epoch: 110, Loss: 0.0000, Train: 100.00%, Valid: 72.80% Test: 74.60%\n",
            "Epoch: 111, Loss: 0.0000, Train: 100.00%, Valid: 72.80% Test: 74.60%\n",
            "Epoch: 112, Loss: 0.0001, Train: 100.00%, Valid: 72.80% Test: 74.60%\n",
            "Epoch: 113, Loss: 0.0001, Train: 100.00%, Valid: 72.80% Test: 74.50%\n",
            "Epoch: 114, Loss: 0.0000, Train: 100.00%, Valid: 72.80% Test: 74.60%\n",
            "Epoch: 115, Loss: 0.0000, Train: 100.00%, Valid: 72.80% Test: 74.60%\n",
            "Epoch: 116, Loss: 0.0000, Train: 100.00%, Valid: 72.80% Test: 74.60%\n",
            "Epoch: 117, Loss: 0.0001, Train: 100.00%, Valid: 72.80% Test: 74.60%\n",
            "Epoch: 118, Loss: 0.0001, Train: 100.00%, Valid: 72.80% Test: 74.60%\n",
            "Epoch: 119, Loss: 0.0002, Train: 100.00%, Valid: 72.80% Test: 74.60%\n",
            "Epoch: 120, Loss: 0.0000, Train: 100.00%, Valid: 72.80% Test: 74.60%\n",
            "Epoch: 121, Loss: 0.0000, Train: 100.00%, Valid: 72.80% Test: 74.60%\n",
            "Epoch: 122, Loss: 0.0000, Train: 100.00%, Valid: 72.80% Test: 74.50%\n",
            "Epoch: 123, Loss: 0.0001, Train: 100.00%, Valid: 72.80% Test: 74.50%\n",
            "Epoch: 124, Loss: 0.0000, Train: 100.00%, Valid: 72.80% Test: 74.50%\n",
            "Epoch: 125, Loss: 0.0000, Train: 100.00%, Valid: 72.80% Test: 74.50%\n",
            "Epoch: 126, Loss: 0.0000, Train: 100.00%, Valid: 72.80% Test: 74.50%\n",
            "Epoch: 127, Loss: 0.0000, Train: 100.00%, Valid: 73.00% Test: 74.50%\n",
            "Epoch: 128, Loss: 0.0003, Train: 100.00%, Valid: 73.00% Test: 74.60%\n",
            "Epoch: 129, Loss: 0.0000, Train: 100.00%, Valid: 73.00% Test: 74.60%\n",
            "Epoch: 130, Loss: 0.0000, Train: 100.00%, Valid: 73.00% Test: 74.70%\n",
            "Epoch: 131, Loss: 0.0000, Train: 100.00%, Valid: 73.00% Test: 74.70%\n",
            "Epoch: 132, Loss: 0.0000, Train: 100.00%, Valid: 73.00% Test: 74.70%\n",
            "Epoch: 133, Loss: 0.0002, Train: 100.00%, Valid: 73.00% Test: 74.70%\n",
            "Epoch: 134, Loss: 0.0000, Train: 100.00%, Valid: 73.00% Test: 74.70%\n",
            "Epoch: 135, Loss: 0.0000, Train: 100.00%, Valid: 73.00% Test: 74.70%\n",
            "Epoch: 136, Loss: 0.0000, Train: 100.00%, Valid: 73.00% Test: 74.60%\n",
            "Epoch: 137, Loss: 0.0000, Train: 100.00%, Valid: 73.00% Test: 74.60%\n",
            "Epoch: 138, Loss: 0.0001, Train: 100.00%, Valid: 73.00% Test: 74.60%\n",
            "Epoch: 139, Loss: 0.0000, Train: 100.00%, Valid: 73.00% Test: 74.60%\n",
            "Epoch: 140, Loss: 0.0000, Train: 100.00%, Valid: 73.00% Test: 74.60%\n",
            "Epoch: 141, Loss: 0.0000, Train: 100.00%, Valid: 73.00% Test: 74.60%\n",
            "Epoch: 142, Loss: 0.0000, Train: 100.00%, Valid: 73.00% Test: 74.60%\n",
            "Epoch: 143, Loss: 0.0000, Train: 100.00%, Valid: 73.00% Test: 74.60%\n",
            "Epoch: 144, Loss: 0.0000, Train: 100.00%, Valid: 73.00% Test: 74.70%\n",
            "Epoch: 145, Loss: 0.0000, Train: 100.00%, Valid: 73.00% Test: 74.70%\n",
            "Epoch: 146, Loss: 0.0000, Train: 100.00%, Valid: 73.00% Test: 74.70%\n",
            "Epoch: 147, Loss: 0.0000, Train: 100.00%, Valid: 73.00% Test: 74.70%\n",
            "Epoch: 148, Loss: 0.0001, Train: 100.00%, Valid: 73.00% Test: 74.70%\n",
            "Epoch: 149, Loss: 0.0000, Train: 100.00%, Valid: 73.00% Test: 74.70%\n",
            "Epoch: 150, Loss: 0.0000, Train: 100.00%, Valid: 73.00% Test: 74.80%\n",
            "Best model: Train: 100.00%, Valid: 75.00% Test: 74.70%\n"
          ]
        }
      ],
      "source": [
        "if 'IS_GRADESCOPE_ENV' not in os.environ:\n",
        "  \n",
        "  set_seed()\n",
        "\n",
        "  graphs_train, graphs_val, graphs_test = \\\n",
        "      GraphDataset.pyg_to_graphs(pyg_dataset, verbose=True, fixed_split=True)\n",
        "\n",
        "  graph_train = graphs_train[0]\n",
        "  graph_val = graphs_val[0]\n",
        "  graph_test = graphs_test[0]\n",
        "\n",
        "  model = GNN(graph_train.num_node_features, args['hidden_size'], graph_train.num_node_labels, args).to(args['device'])\n",
        "\n",
        "  # Disable compile as this does not seem to work yet in PyTorch 2.0.1/PyG 2.3.1\n",
        "  # try:\n",
        "  #   model = torch_geometric.compile(model)\n",
        "  #   print(f\"GNN Model compiled\")\n",
        "  # except Exception as err:\n",
        "  #   print(f\"Model compile not supported: {err}\")\n",
        "\n",
        "  optimizer = torch.optim.Adam(model.parameters(), lr=args['lr'])\n",
        "  graphs = [graph_train, graph_val, graph_test]\n",
        "  all_best_model, all_accs = train(graphs, graphs, args, model, optimizer, mode=\"all\")\n",
        "  train_acc, val_acc, test_acc = test([graph_train, graph_val, graph_test], all_best_model)\n",
        "  print('Best model:',\n",
        "        f'Train: {100 * train_acc:.2f}%, '\n",
        "        f'Valid: {100 * val_acc:.2f}% '\n",
        "        f'Test: {100 * test_acc:.2f}%')"
      ]
    },
    {
      "cell_type": "markdown",
      "metadata": {
        "id": "6RpuETv7Vpx0"
      },
      "source": [
        "## Visualization"
      ]
    },
    {
      "cell_type": "code",
      "execution_count": 51,
      "metadata": {
        "colab": {
          "base_uri": "https://localhost:8080/",
          "height": 641
        },
        "id": "PMK33kY5VmF5",
        "outputId": "369c25d1-6acc-4b35-9cbe-ae90351bcacf"
      },
      "outputs": [
        {
          "data": {
            "image/png": "[encoded data removed]",
            "text/plain": [
              "<Figure size 900x700 with 1 Axes>"
            ]
          },
          "metadata": {},
          "output_type": "display_data"
        }
      ],
      "source": [
        "import numpy as np\n",
        "from matplotlib import pyplot as plt\n",
        "\n",
        "if 'IS_GRADESCOPE_ENV' not in os.environ:\n",
        "  louvain_results = np.array(louvain_accs)\n",
        "  bisection_results = np.array(bisection_accs)\n",
        "  greedy_results = np.array(greedy_accs)\n",
        "  all_results = np.array(all_accs)\n",
        "\n",
        "  x = np.arange(1, 151)\n",
        "\n",
        "  plt.figure(figsize=(9, 7))\n",
        "\n",
        "  plt.plot(x, louvain_results[:, 1], label=\"Louvain Validation\")\n",
        "  plt.plot(x, louvain_results[:, 2], label=\"Louvain Test\")\n",
        "  plt.plot(x, bisection_results[:, 1], label=\"Bisection Validation\")\n",
        "  plt.plot(x, bisection_results[:, 2], label=\"Bisection Test\")\n",
        "  plt.plot(x, greedy_results[:, 1], label=\"Greedy Validation\")\n",
        "  plt.plot(x, greedy_results[:, 2], label=\"Greedy Test\")\n",
        "  plt.plot(x, all_results[:, 1], label=\"All Validation\")\n",
        "  plt.plot(x, all_results[:, 2], label=\"All Test\")\n",
        "  plt.title('Model Accuracy')\n",
        "  plt.ylabel('Accuracy')\n",
        "  plt.xlabel('Epoch')\n",
        "  plt.legend()\n",
        "  plt.show()"
      ]
    },
    {
      "cell_type": "markdown",
      "metadata": {
        "id": "kfucBiYfVYFF"
      },
      "source": [
        "# Submission\n",
        "\n",
        "You will need to submit three files on Gradescope to complete this notebook. \n",
        "\n",
        "1.   Your completed *XCS224W_Colab5.ipynb*. From the \"File\" menu select \"Download .ipynb\" to save a local copy of your completed Colab. \n",
        "2.  *CORA_Node_batch_(0.7,0.9,1).csv*\n",
        "3.  *CORA_Node_batch_(0.3,0.5,1).csv*\n",
        "4.  *CORA_Node_cluster_louvain.csv*\n",
        "5.  *CORA_Node_cluster_greedy.csv*\n",
        "6.  *CORA_Node_cluster_bisection.csv*\n",
        "\n",
        "Download the csv files by selecting the *Folder* icon on the left panel. \n",
        "\n",
        "To submit your work, zip the files downloaded in steps 1-7 above and submit to gradescope. **NOTE:** DO NOT rename any of the downloaded files. "
      ]
    }
  ],
  "metadata": {
    "accelerator": "GPU",
    "colab": {
      "machine_shape": "hm",
      "provenance": []
    },
    "kernelspec": {
      "display_name": "Python 3.8.10 64-bit",
      "language": "python",
      "name": "python3"
    },
    "language_info": {
      "codemirror_mode": {
        "name": "ipython",
        "version": 3
      },
      "file_extension": ".py",
      "mimetype": "text/x-python",
      "name": "python",
      "nbconvert_exporter": "python",
      "pygments_lexer": "ipython3",
      "version": "3.12.2"
    },
    "vscode": {
      "interpreter": {
        "hash": "31f2aee4e71d21fbe5cf8b01ff0e069b9275f58929596ceb00d14d90e3e16cd6"
      }
    }
  },
  "nbformat": 4,
  "nbformat_minor": 0
}
