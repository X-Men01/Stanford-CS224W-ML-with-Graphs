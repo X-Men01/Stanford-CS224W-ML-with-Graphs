{
 "cells": [
  {
   "cell_type": "code",
   "execution_count": 8,
   "metadata": {},
   "outputs": [
    {
     "name": "stdout",
     "output_type": "stream",
     "text": [
      "Cross-validation scores: [0.90566038 0.86538462 0.92307692 0.76923077 0.90384615]\n"
     ]
    }
   ],
   "source": [
    "from sklearn.model_selection import cross_val_predict\n",
    "from sklearn.metrics import classification_report\n",
    "from sklearn.linear_model import LogisticRegression\n",
    "from sklearn.preprocessing import StandardScaler\n",
    "import pandas as pd\n",
    "import numpy as np\n",
    "from sklearn.model_selection import cross_val_score\n",
    "# Load the data\n",
    "preprocessed_data = pd.read_csv(\"/Users/ahmedalkhulayfi/Documents/Stanford/Labs/project/preprocessed_data_v2.csv\")\n",
    "\n",
    "# Features and target\n",
    "X = preprocessed_data.drop(columns=[\"Target_encoded\"])\n",
    "y = preprocessed_data[\"Target_encoded\"]\n",
    "\n",
    "# Scale the features\n",
    "scaler = StandardScaler()\n",
    "X_scaled = scaler.fit_transform(X)\n",
    "\n",
    "# Initialize Logistic Regression model\n",
    "model = LogisticRegression(max_iter=1000)\n",
    "\n",
    "# Perform cross-validation predictions\n",
    "y_pred = cross_val_predict(model, X_scaled, y, cv=5)\n",
    "\n",
    "# # Print classification report\n",
    "# report = classification_report(y, y_pred)\n",
    "# print(\"Classification Report:\\n\", report)\n",
    "\n",
    "# Perform 5-fold cross-validation and print scores\n",
    "cv_scores = cross_val_score(model, X_scaled, y, cv=5, scoring='f1_micro')\n",
    "print(\"Cross-validation scores:\", cv_scores)\n",
    "# print(\"Mean accuracy:\", np.mean(cv_scores))"
   ]
  },
  {
   "cell_type": "code",
   "execution_count": null,
   "metadata": {},
   "outputs": [],
   "source": []
  }
 ],
 "metadata": {
  "kernelspec": {
   "display_name": "base",
   "language": "python",
   "name": "python3"
  },
  "language_info": {
   "codemirror_mode": {
    "name": "ipython",
    "version": 3
   },
   "file_extension": ".py",
   "mimetype": "text/x-python",
   "name": "python",
   "nbconvert_exporter": "python",
   "pygments_lexer": "ipython3",
   "version": "3.12.2"
  }
 },
 "nbformat": 4,
 "nbformat_minor": 2
}
